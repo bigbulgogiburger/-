{
 "cells": [
  {
   "cell_type": "markdown",
   "metadata": {},
   "source": [
    "## 증권 종목별 데이터 한번에 다 모으기. \n",
    "- author : 편도훈"
   ]
  },
  {
   "cell_type": "code",
   "execution_count": 44,
   "metadata": {},
   "outputs": [],
   "source": [
    "from selenium import webdriver\n",
    "import selenium\n",
    "import pandas as pd\n",
    "import numpy as np\n",
    "import datetime\n",
    "import time\n",
    "from tqdm import tqdm"
   ]
  },
  {
   "cell_type": "markdown",
   "metadata": {},
   "source": [
    "## 주소별로 원하는 정보 찾기.\n",
    "- 종목코드 : code\n",
    "- 시가총액 : market_cap(replace로 ,빼기)\n",
    "- 상장일 : reg_day\n",
    "- PER : per(소수점 두번째 자리까지)\n",
    "- kospi 여부"
   ]
  },
  {
   "cell_type": "code",
   "execution_count": 36,
   "metadata": {},
   "outputs": [],
   "source": [
    "##### 업종별 이름, 사이트 다 모으기.\n",
    "\n",
    "# 크롬드라이버가 연결되어 있는 주소 저장\n",
    "chromedriver ='E:/big12/python-project/note/driver/chromedriver.exe'\n",
    "\n",
    "# 크롬드라이버 연결\n",
    "driver = webdriver.Chrome(chromedriver)\n",
    "\n",
    "#업종 사이트 연결\n",
    "driver.get('https://finance.naver.com/sise/sise_group.nhn?type=upjong')\n",
    "\n",
    "#업종의 tbody에는 업종별로 사이트를 저장하는 a태그들이 있다. 그것을 꺼낸다.\n",
    "a_tags = driver.find_element_by_tag_name('tbody').find_elements_by_tag_name('a')\n",
    "\n",
    "category_list =[]\n",
    "\n",
    "#업종의 주소와 이름을 저장\n",
    "for a in a_tags:\n",
    "    category_list.append([a.get_attribute('href'),a.text])\n",
    "\n",
    "#구글 드라이버를 꼭 닫아주기.\n",
    "driver.close()"
   ]
  },
  {
   "cell_type": "code",
   "execution_count": 42,
   "metadata": {},
   "outputs": [],
   "source": [
    "# 여기서부터 다시하기\n",
    "\n",
    "# function 생성.\n",
    "def add_category_info(name_website):\n",
    "    #파라미터로 들어온 것은 [웹사이트,이름]으로 구성되어 있는 리스트 이다.\n",
    "    #크롬드라이버 주소 저장\n",
    "    chromedriver ='E:/big12/python-project/note/driver/chromedriver.exe'\n",
    "    #크롬드라이버 object 생성\n",
    "    driver = webdriver.Chrome(chromedriver)\n",
    "    \n",
    "    #웹사이트로 가기.\n",
    "    driver.get(name_website[0])\n",
    "    #특정업종사이트의 name_area의 a태그에는 종목의 주소와 이름이 저장되어있다.\n",
    "    tmp = driver.find_elements_by_class_name('name_area')\n",
    "    #종목 주소 저장\n",
    "    address = [x.find_element_by_tag_name('a').get_attribute('href') for x in tmp]\n",
    "    #종목 이름 저장\n",
    "    name = [x.find_element_by_tag_name('a').text for x in tmp]\n",
    "    \n",
    "    #변수를 저장할 빈리스트\n",
    "    code_list =[]\n",
    "    market_cap_list =[]\n",
    "    reg_day_list=[]\n",
    "    per_list=[]\n",
    "    kospi_list=[]\n",
    "    name_list=[]\n",
    "    \n",
    "    #주소를 for문으로 돌린다.\n",
    "    for addr in address:\n",
    "        \n",
    "        #드라이버로 1종목의 주소에 들어간다.\n",
    "        driver.get(addr)\n",
    "        #잠시대기\n",
    "        time.sleep(0.5)\n",
    "        \n",
    "        \n",
    "        #code라는 곳에는 업종코드가 저장\n",
    "        code_list.append(driver.find_element_by_class_name('code').text)\n",
    "        \n",
    "        #wrap_companmy에 회사이름이 저장 되어 있따\n",
    "        name_list.append(driver.find_element_by_class_name('wrap_company').find_element_by_tag_name('a').text)\n",
    "        \n",
    "        #_market_sum에는 시가총액이 들어가 있다.\n",
    "        market_cap = driver.find_element_by_id('_market_sum').text\n",
    "        \n",
    "        #2가지 예외처리를 한다. 4조 9,222같은 경우에는 띄어쓰기를 기준으로 두개를 나누어주고 콤마를 제외하고 붙여야한다.\n",
    "        if(market_cap.find('조')!=-1):\n",
    "            tmp_list = market_cap.split(' ')\n",
    "            market_cap = tmp_list[0][:-1]+tmp_list[1][:]\n",
    "        if(market_cap.find(',')!=-1):\n",
    "            market_cap = market_cap.replace(\",\",\"\")\n",
    "        \n",
    "        #리스트에 저장해준다.    \n",
    "        market_cap_list.append(int(market_cap))\n",
    "        \n",
    "        #per은 N/A인 경우가 있다. N/A인 경우는 해당 id 자체가 없기 때문에 try를 사용하여 except가 발생한다면 -1.0으로 대체한다.\n",
    "        try:\n",
    "\n",
    "            per = float(driver.find_element_by_id('_per').text)\n",
    "        except:\n",
    "            #na는 -1로 치환한다.\n",
    "            per =-1.0\n",
    "        finally:\n",
    "            #어쨌든 저장\n",
    "            per_list.append(per)\n",
    "            \n",
    "        #kospi라는 클래스가 있거나 kosdaq이라는 클래스가 있다. 어차피 둘 중 하나만 있기 때문에 \n",
    "        #코스피 클래스가 없으면 코스닥으로 넘어간다.\n",
    "        try:\n",
    "            driver.find_element_by_class_name('kospi')\n",
    "            kospi_list.append('kospi')\n",
    "            \n",
    "        except:\n",
    "            kospi_list.append('kosdaq')\n",
    "\n",
    "    #데이터프레임에 저장한다.\n",
    "    df = pd.DataFrame(\n",
    "        {\n",
    "            'code' : code_list,\n",
    "            'name' :name_list,\n",
    "            'market_cap' : market_cap_list,\n",
    "            'per' : per_list,\n",
    "            'class' : kospi_list\n",
    "        }\n",
    "    )\n",
    "\n",
    "    #상장일은 ajax처리가 되어 다른 사이트에 있다. 그 자료를 따로 받아주도록 하자.\n",
    "    for code in code_list:\n",
    "        #code_list에 저장되어 있는 것을 활용하여\n",
    "        code= code\n",
    "        \n",
    "        #이 사이트에서 code만 바꾸어준다.\n",
    "        reg_site = 'https://navercomp.wisereport.co.kr/v2/company/c1020001.aspx?cmp_cd={code}&cn='.format(code = code)\n",
    "        \n",
    "        #드라이버를 사용하여 해당사이트로 이동\n",
    "        driver.get(reg_site)\n",
    "        #상장일의 클래스는 클래스를 2개를 사용한다. c2 txt\n",
    "        tmp_reg = driver.find_elements_by_class_name('c2.txt')[1].text\n",
    "        \n",
    "        #상장일이 좀 복잡하게 되어있던데 까먹었다. 이렇게 하면 되더라고요...\n",
    "        reg_day_list.append(tmp_reg.split(' ')[2][:-1])\n",
    "    \n",
    "    \n",
    "    #포문을 벗어나고 상장일을 df에 등록해준다.\n",
    "    df['reg_day']=reg_day_list\n",
    "    #코드에도 A를 추가해준다.(엑셀에서 숫자로 인식하여 0을 빼벌임)\n",
    "    df['code'] = [ 'A'+x for x in df['code']]\n",
    "    \n",
    "    #업종의 이름으로 저장\n",
    "    df.to_csv('./categories/'+name_website[1]+'.csv', encoding='utf-8')\n",
    "    \n",
    "    #꼭 닫아주기로 하자.\n",
    "    driver.close()\n",
    "    \n",
    "    ###close와 open을 어디다 넣어줘야하는지 고민"
   ]
  },
  {
   "cell_type": "code",
   "execution_count": 38,
   "metadata": {},
   "outputs": [
    {
     "name": "stdout",
     "output_type": "stream",
     "text": [
      "78\n"
     ]
    },
    {
     "data": {
      "text/plain": [
       "[['https://finance.naver.com/sise/sise_group_detail.nhn?type=upjong&no=109',\n",
       "  '창업투자'],\n",
       " ['https://finance.naver.com/sise/sise_group_detail.nhn?type=upjong&no=44',\n",
       "  '자동차'],\n",
       " ['https://finance.naver.com/sise/sise_group_detail.nhn?type=upjong&no=166',\n",
       "  '출판'],\n",
       " ['https://finance.naver.com/sise/sise_group_detail.nhn?type=upjong&no=222',\n",
       "  '디스플레이패널'],\n",
       " ['https://finance.naver.com/sise/sise_group_detail.nhn?type=upjong&no=36',\n",
       "  '자동차부품']]"
      ]
     },
     "execution_count": 38,
     "metadata": {},
     "output_type": "execute_result"
    }
   ],
   "source": [
    "category_list.pop(20)\n",
    "\n",
    "print(len(category_list))\n",
    "\n",
    "category_list[:5]\n"
   ]
  },
  {
   "cell_type": "code",
   "execution_count": 43,
   "metadata": {
    "scrolled": true
   },
   "outputs": [
    {
     "name": "stderr",
     "output_type": "stream",
     "text": [
      "100%|██████████████████████████████████████████████████████████████████████████████████| 78/78 [46:38<00:00, 35.88s/it]\n"
     ]
    }
   ],
   "source": [
    "###category_list에 인덱싱 지정하셔도 됩니당\n",
    "\n",
    "\n",
    "for name_website in tqdm(category_list):\n",
    "    add_category_info(name_website)"
   ]
  },
  {
   "cell_type": "code",
   "execution_count": null,
   "metadata": {},
   "outputs": [],
   "source": [
    "pd.read_csv('./categories/', encoding='utf-8')"
   ]
  },
  {
   "cell_type": "markdown",
   "metadata": {},
   "source": [
    "## 기타는 상장일이 없으니 빼주세용"
   ]
  },
  {
   "cell_type": "code",
   "execution_count": 2,
   "metadata": {},
   "outputs": [],
   "source": [
    "# from multiprocessing import Pool\n",
    "# 아 왜 안대냐귱\n",
    "# cat1=[]\n",
    "# cat2=[]\n",
    "# cat3=[]\n",
    "# cat4=[]\n",
    "\n",
    "# for i in range(len(category_list)):\n",
    "#     if i%4==0:\n",
    "#         cat1.append(category_list[i])\n",
    "#     elif i%4==1:\n",
    "#         cat2.append(category_list[i])\n",
    "#     elif i%4==2:\n",
    "#         cat3.append(category_list[i])\n",
    "#     elif i%4==3:\n",
    "#         cat4.append(category_list[i])    \n",
    "# print(len(cat1),cat1[1])\n",
    "\n",
    "# sorted_categories = [cat1,cat2,cat3,cat4]\n",
    "# sorted_categories\n",
    "\n",
    "# pool = Pool(processes=4)\n",
    "\n",
    "# pool.map(add_category_info,sorted_categories)"
   ]
  },
  {
   "cell_type": "code",
   "execution_count": null,
   "metadata": {},
   "outputs": [],
   "source": []
  }
 ],
 "metadata": {
  "kernelspec": {
   "display_name": "dev-ml",
   "language": "python",
   "name": "dev-ml"
  },
  "language_info": {
   "codemirror_mode": {
    "name": "ipython",
    "version": 3
   },
   "file_extension": ".py",
   "mimetype": "text/x-python",
   "name": "python",
   "nbconvert_exporter": "python",
   "pygments_lexer": "ipython3",
   "version": "3.7.10"
  }
 },
 "nbformat": 4,
 "nbformat_minor": 4
}
