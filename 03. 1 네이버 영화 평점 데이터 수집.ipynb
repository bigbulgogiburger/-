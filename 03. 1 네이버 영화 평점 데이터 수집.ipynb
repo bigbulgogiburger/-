{
 "cells": [
  {
   "cell_type": "markdown",
   "metadata": {},
   "source": [
    "### 네이버 영화 평점 기준 영화의 평점 변화."
   ]
  },
  {
   "cell_type": "code",
   "execution_count": 1,
   "metadata": {},
   "outputs": [],
   "source": [
    "import pandas as pd\n",
    "from bs4 import BeautifulSoup # 파싱, 선택\n",
    "from urllib.request import urlopen,Request # html 파일 요청"
   ]
  },
  {
   "cell_type": "code",
   "execution_count": 23,
   "metadata": {},
   "outputs": [],
   "source": [
    "# https://movie.naver.com/movie/sdb/rank/rmovie.nhn?sel=cur&date=20210329\n",
    "url_base='https://movie.naver.com/'\n",
    "url_sub='movie/sdb/rank/rmovie.nhn?sel=cur&date=20210301'"
   ]
  },
  {
   "cell_type": "code",
   "execution_count": 24,
   "metadata": {},
   "outputs": [],
   "source": [
    "page = urlopen(url_base+url_sub)"
   ]
  },
  {
   "cell_type": "code",
   "execution_count": 25,
   "metadata": {},
   "outputs": [
    {
     "data": {
      "text/plain": [
       "<http.client.HTTPResponse at 0x270fcfe36a0>"
      ]
     },
     "execution_count": 25,
     "metadata": {},
     "output_type": "execute_result"
    }
   ],
   "source": [
    "page"
   ]
  },
  {
   "cell_type": "code",
   "execution_count": 26,
   "metadata": {},
   "outputs": [],
   "source": [
    "soup = BeautifulSoup(page,'html.parser')"
   ]
  },
  {
   "cell_type": "code",
   "execution_count": 30,
   "metadata": {},
   "outputs": [
    {
     "data": {
      "text/plain": [
       "'디지몬 어드벤처 라스트 에볼루션 : 인연'"
      ]
     },
     "execution_count": 30,
     "metadata": {},
     "output_type": "execute_result"
    }
   ],
   "source": [
    "soup.find_all('div',class_='tit5')[0].a.string #a태그를 가지고와서 string으로 바꿔라"
   ]
  },
  {
   "cell_type": "code",
   "execution_count": 33,
   "metadata": {},
   "outputs": [
    {
     "data": {
      "text/plain": [
       "'9.56'"
      ]
     },
     "execution_count": 33,
     "metadata": {},
     "output_type": "execute_result"
    }
   ],
   "source": [
    "# point 처리\n",
    "soup.find_all('td',class_='point')[0].string"
   ]
  },
  {
   "cell_type": "code",
   "execution_count": 34,
   "metadata": {},
   "outputs": [
    {
     "data": {
      "text/plain": [
       "49"
      ]
     },
     "execution_count": 34,
     "metadata": {},
     "output_type": "execute_result"
    }
   ],
   "source": [
    "len(soup.find_all('td',class_='point'))"
   ]
  },
  {
   "cell_type": "code",
   "execution_count": 39,
   "metadata": {},
   "outputs": [
    {
     "data": {
      "text/plain": [
       "['디지몬 어드벤처 라스트 에볼루션 : 인연',\n",
       " '원더',\n",
       " '극장판 바이올렛 에버가든',\n",
       " '송가인 더 드라마',\n",
       " '서유기 2 - 선리기연',\n",
       " '부활: 그 증거',\n",
       " '소울',\n",
       " '엽기적인 그녀',\n",
       " '극장판 귀멸의 칼날: 무한열차편',\n",
       " '서유기 - 월광보합',\n",
       " '해피 투게더',\n",
       " '러브레터',\n",
       " '싸이코',\n",
       " '타오르는 여인의 초상',\n",
       " '온워드: 단 하루의 기적',\n",
       " '남매의 여름밤',\n",
       " '러브 액츄얼리',\n",
       " '너의 이름은.',\n",
       " '화양연화',\n",
       " '찬실이는 복도 많지',\n",
       " '아티스트',\n",
       " '현기증',\n",
       " '캐롤',\n",
       " '분노',\n",
       " '세자매',\n",
       " '아비정전',\n",
       " '뮨: 달의 요정',\n",
       " '원챈스',\n",
       " '비포 미드나잇',\n",
       " '클로저',\n",
       " '폭스캐처',\n",
       " '하나와 앨리스',\n",
       " '더 울프 오브 월 스트리트',\n",
       " '해리 포터와 불의 잔',\n",
       " '일대종사',\n",
       " '날씨의 아이',\n",
       " '그레이트 뷰티',\n",
       " '별을 쫓는 아이',\n",
       " '톰과 제리',\n",
       " '철벽선생',\n",
       " '미션 파서블',\n",
       " '아메리칸 허슬',\n",
       " '더블패티',\n",
       " '더 프롬',\n",
       " '은혼',\n",
       " '새해전야',\n",
       " '펭귄 하이웨이',\n",
       " '카오스 워킹',\n",
       " '몬스터 헌터']"
      ]
     },
     "execution_count": 39,
     "metadata": {},
     "output_type": "execute_result"
    }
   ],
   "source": [
    "# # 영화 제목 추출, 저장.\n",
    "# movie_name=[]\n",
    "# for n in range(0,49):\n",
    "#     tmp_name = soup.find_all('div',class_='tit5')[n].a.string\n",
    "#     movie_name.append(tmp_name)\n",
    "\n",
    "#간지나는 내포된 for 문. 바깥의 []는 리스트를 만들라는 명령이다.\n",
    "movie_name =[soup.find_all('div',class_='tit5')[n].a.string for n in range(0,49)] \n",
    "movie_name"
   ]
  },
  {
   "cell_type": "code",
   "execution_count": 40,
   "metadata": {},
   "outputs": [
    {
     "data": {
      "text/plain": [
       "['9.56',\n",
       " '9.51',\n",
       " '9.50',\n",
       " '9.43',\n",
       " '9.36',\n",
       " '9.34',\n",
       " '9.31',\n",
       " '9.30',\n",
       " '9.25',\n",
       " '9.21',\n",
       " '9.19',\n",
       " '9.12',\n",
       " '9.10',\n",
       " '9.06',\n",
       " '9.00',\n",
       " '8.96',\n",
       " '8.93',\n",
       " '8.79',\n",
       " '8.78',\n",
       " '8.73',\n",
       " '8.72',\n",
       " '8.72',\n",
       " '8.60',\n",
       " '8.55',\n",
       " '8.52',\n",
       " '8.48',\n",
       " '8.36',\n",
       " '8.32',\n",
       " '8.19',\n",
       " '8.18',\n",
       " '8.17',\n",
       " '8.11',\n",
       " '8.05',\n",
       " '8.03',\n",
       " '8.00',\n",
       " '7.95',\n",
       " '7.93',\n",
       " '7.92',\n",
       " '7.79',\n",
       " '7.77',\n",
       " '7.66',\n",
       " '7.50',\n",
       " '7.29',\n",
       " '7.27',\n",
       " '7.20',\n",
       " '7.13',\n",
       " '6.72',\n",
       " '6.31',\n",
       " '6.02']"
      ]
     },
     "execution_count": 40,
     "metadata": {},
     "output_type": "execute_result"
    }
   ],
   "source": [
    "#내포된 포문 [식 for n in range(0,49) 조건(if)]\n",
    "movie_point =\\\n",
    "[soup.find_all('td',class_='point')[n].string for n in range(0,49)]\n",
    "movie_point"
   ]
  },
  {
   "cell_type": "markdown",
   "metadata": {},
   "source": [
    "### 2020년 12월 1일부터 100일간 데이터 추출\n",
    "- 영화별 평점 변화를 차트에다 출력\n"
   ]
  },
  {
   "cell_type": "code",
   "execution_count": 43,
   "metadata": {},
   "outputs": [],
   "source": [
    "# 2020-12-01부터 100일간 연속값 생성\n",
    "#pandas.date_range 개중요\n",
    "date = pd.date_range('20200214', periods=100, freq='D')"
   ]
  },
  {
   "cell_type": "code",
   "execution_count": 44,
   "metadata": {},
   "outputs": [
    {
     "data": {
      "text/plain": [
       "DatetimeIndex(['2020-02-14', '2020-02-15', '2020-02-16', '2020-02-17',\n",
       "               '2020-02-18', '2020-02-19', '2020-02-20', '2020-02-21',\n",
       "               '2020-02-22', '2020-02-23', '2020-02-24', '2020-02-25',\n",
       "               '2020-02-26', '2020-02-27', '2020-02-28', '2020-02-29',\n",
       "               '2020-03-01', '2020-03-02', '2020-03-03', '2020-03-04',\n",
       "               '2020-03-05', '2020-03-06', '2020-03-07', '2020-03-08',\n",
       "               '2020-03-09', '2020-03-10', '2020-03-11', '2020-03-12',\n",
       "               '2020-03-13', '2020-03-14', '2020-03-15', '2020-03-16',\n",
       "               '2020-03-17', '2020-03-18', '2020-03-19', '2020-03-20',\n",
       "               '2020-03-21', '2020-03-22', '2020-03-23', '2020-03-24',\n",
       "               '2020-03-25', '2020-03-26', '2020-03-27', '2020-03-28',\n",
       "               '2020-03-29', '2020-03-30', '2020-03-31', '2020-04-01',\n",
       "               '2020-04-02', '2020-04-03', '2020-04-04', '2020-04-05',\n",
       "               '2020-04-06', '2020-04-07', '2020-04-08', '2020-04-09',\n",
       "               '2020-04-10', '2020-04-11', '2020-04-12', '2020-04-13',\n",
       "               '2020-04-14', '2020-04-15', '2020-04-16', '2020-04-17',\n",
       "               '2020-04-18', '2020-04-19', '2020-04-20', '2020-04-21',\n",
       "               '2020-04-22', '2020-04-23', '2020-04-24', '2020-04-25',\n",
       "               '2020-04-26', '2020-04-27', '2020-04-28', '2020-04-29',\n",
       "               '2020-04-30', '2020-05-01', '2020-05-02', '2020-05-03',\n",
       "               '2020-05-04', '2020-05-05', '2020-05-06', '2020-05-07',\n",
       "               '2020-05-08', '2020-05-09', '2020-05-10', '2020-05-11',\n",
       "               '2020-05-12', '2020-05-13', '2020-05-14', '2020-05-15',\n",
       "               '2020-05-16', '2020-05-17', '2020-05-18', '2020-05-19',\n",
       "               '2020-05-20', '2020-05-21', '2020-05-22', '2020-05-23'],\n",
       "              dtype='datetime64[ns]', freq='D')"
      ]
     },
     "execution_count": 44,
     "metadata": {},
     "output_type": "execute_result"
    }
   ],
   "source": [
    "date"
   ]
  },
  {
   "cell_type": "code",
   "execution_count": 47,
   "metadata": {},
   "outputs": [],
   "source": [
    "# 2020-12-01부터 100일간 연속값 생성\n",
    "#pandas.date_range 개중요\n",
    "date = pd.date_range('20201201', periods=100, freq='D')"
   ]
  },
  {
   "cell_type": "code",
   "execution_count": 48,
   "metadata": {},
   "outputs": [
    {
     "data": {
      "text/plain": [
       "DatetimeIndex(['2020-12-01', '2020-12-02', '2020-12-03', '2020-12-04',\n",
       "               '2020-12-05', '2020-12-06', '2020-12-07', '2020-12-08',\n",
       "               '2020-12-09', '2020-12-10', '2020-12-11', '2020-12-12',\n",
       "               '2020-12-13', '2020-12-14', '2020-12-15', '2020-12-16',\n",
       "               '2020-12-17', '2020-12-18', '2020-12-19', '2020-12-20',\n",
       "               '2020-12-21', '2020-12-22', '2020-12-23', '2020-12-24',\n",
       "               '2020-12-25', '2020-12-26', '2020-12-27', '2020-12-28',\n",
       "               '2020-12-29', '2020-12-30', '2020-12-31', '2021-01-01',\n",
       "               '2021-01-02', '2021-01-03', '2021-01-04', '2021-01-05',\n",
       "               '2021-01-06', '2021-01-07', '2021-01-08', '2021-01-09',\n",
       "               '2021-01-10', '2021-01-11', '2021-01-12', '2021-01-13',\n",
       "               '2021-01-14', '2021-01-15', '2021-01-16', '2021-01-17',\n",
       "               '2021-01-18', '2021-01-19', '2021-01-20', '2021-01-21',\n",
       "               '2021-01-22', '2021-01-23', '2021-01-24', '2021-01-25',\n",
       "               '2021-01-26', '2021-01-27', '2021-01-28', '2021-01-29',\n",
       "               '2021-01-30', '2021-01-31', '2021-02-01', '2021-02-02',\n",
       "               '2021-02-03', '2021-02-04', '2021-02-05', '2021-02-06',\n",
       "               '2021-02-07', '2021-02-08', '2021-02-09', '2021-02-10',\n",
       "               '2021-02-11', '2021-02-12', '2021-02-13', '2021-02-14',\n",
       "               '2021-02-15', '2021-02-16', '2021-02-17', '2021-02-18',\n",
       "               '2021-02-19', '2021-02-20', '2021-02-21', '2021-02-22',\n",
       "               '2021-02-23', '2021-02-24', '2021-02-25', '2021-02-26',\n",
       "               '2021-02-27', '2021-02-28', '2021-03-01', '2021-03-02',\n",
       "               '2021-03-03', '2021-03-04', '2021-03-05', '2021-03-06',\n",
       "               '2021-03-07', '2021-03-08', '2021-03-09', '2021-03-10'],\n",
       "              dtype='datetime64[ns]', freq='D')"
      ]
     },
     "execution_count": 48,
     "metadata": {},
     "output_type": "execute_result"
    }
   ],
   "source": [
    "date"
   ]
  },
  {
   "cell_type": "code",
   "execution_count": 52,
   "metadata": {},
   "outputs": [
    {
     "data": {
      "text/plain": [
       "'9.51'"
      ]
     },
     "execution_count": 52,
     "metadata": {},
     "output_type": "execute_result"
    }
   ],
   "source": [
    "url_base='https://movie.naver.com/'\n",
    "url_sub='movie/sdb/rank/rmovie.nhn?sel=cur&date={date}'\n",
    "url_ = url_base+url_sub\n",
    "tmp =urlopen(url_.format(date = '20201201'))\n",
    "soup = BeautifulSoup(tmp,'html.parser')\n",
    "soup.find_all('td',class_='point')[0].string"
   ]
  },
  {
   "cell_type": "code",
   "execution_count": 57,
   "metadata": {},
   "outputs": [
    {
     "data": {
      "text/plain": [
       "'20201201'"
      ]
     },
     "execution_count": 57,
     "metadata": {},
     "output_type": "execute_result"
    }
   ],
   "source": [
    "date[0].strftime('%Y%m%d')"
   ]
  },
  {
   "cell_type": "code",
   "execution_count": 61,
   "metadata": {},
   "outputs": [
    {
     "name": "stderr",
     "output_type": "stream",
     "text": [
      "100%|████████████████████████████████████████████████████████████████████████████████| 100/100 [01:28<00:00,  1.13it/s]\n"
     ]
    }
   ],
   "source": [
    "import urllib\n",
    "from tqdm import tqdm\n",
    "#날짜, 제목, 평점 추출해서 저장\n",
    "url_base='https://movie.naver.com/'\n",
    "url_sub='movie/sdb/rank/rmovie.nhn?sel=cur&date={date}'\n",
    "movie_date=[]\n",
    "movie_name=[]\n",
    "movie_point=[]\n",
    "\n",
    "for today in tqdm(date):\n",
    "    url_ = url_base+url_sub\n",
    "    res=urlopen(url_.format(date = today.strftime('%Y%m%d')))\n",
    "    #파싱\n",
    "    soup = BeautifulSoup(res,'html.parser')\n",
    "    end = len(soup.find_all('td','point'))\n",
    "    #리스트 째로 들어가려면 extend() 하나의 원소만 넣으려면 append()\n",
    "    movie_date.extend([today for n in range(0,end)])\n",
    "    movie_name.extend([soup.find_all('div',class_='tit5')[n].a.string for n in range(0,end)])\n",
    "    movie_point.extend([soup.find_all('td',class_='point')[n].string for n in range(0,end)])"
   ]
  },
  {
   "cell_type": "code",
   "execution_count": 71,
   "metadata": {},
   "outputs": [
    {
     "data": {
      "text/plain": [
       "(4767, 4767, 4767)"
      ]
     },
     "execution_count": 71,
     "metadata": {},
     "output_type": "execute_result"
    }
   ],
   "source": [
    "\n",
    "len(movie_date),len(movie_name),len(movie_point)"
   ]
  },
  {
   "cell_type": "code",
   "execution_count": 70,
   "metadata": {},
   "outputs": [
    {
     "data": {
      "text/plain": [
       "['프리키 데스데이',\n",
       " '기기괴괴 성형수',\n",
       " '그린랜드',\n",
       " '이웃사촌',\n",
       " '오케이 마담',\n",
       " '극장판 바이올렛 에버가든',\n",
       " '부활: 그 증거',\n",
       " '소년시절의 너',\n",
       " '페이트 스테이 나이트 헤븐즈필 III.스프링 송',\n",
       " '톰보이']"
      ]
     },
     "execution_count": 70,
     "metadata": {},
     "output_type": "execute_result"
    }
   ],
   "source": [
    "movie_name[45:55]"
   ]
  },
  {
   "cell_type": "code",
   "execution_count": 103,
   "metadata": {},
   "outputs": [
    {
     "data": {
      "text/html": [
       "<div>\n",
       "<style scoped>\n",
       "    .dataframe tbody tr th:only-of-type {\n",
       "        vertical-align: middle;\n",
       "    }\n",
       "\n",
       "    .dataframe tbody tr th {\n",
       "        vertical-align: top;\n",
       "    }\n",
       "\n",
       "    .dataframe thead th {\n",
       "        text-align: right;\n",
       "    }\n",
       "</style>\n",
       "<table border=\"1\" class=\"dataframe\">\n",
       "  <thead>\n",
       "    <tr style=\"text-align: right;\">\n",
       "      <th></th>\n",
       "      <th>date</th>\n",
       "      <th>name</th>\n",
       "      <th>point</th>\n",
       "    </tr>\n",
       "  </thead>\n",
       "  <tbody>\n",
       "    <tr>\n",
       "      <th>0</th>\n",
       "      <td>2020-12-01</td>\n",
       "      <td>극장판 바이올렛 에버가든</td>\n",
       "      <td>9.51</td>\n",
       "    </tr>\n",
       "    <tr>\n",
       "      <th>1</th>\n",
       "      <td>2020-12-01</td>\n",
       "      <td>부활: 그 증거</td>\n",
       "      <td>9.43</td>\n",
       "    </tr>\n",
       "    <tr>\n",
       "      <th>2</th>\n",
       "      <td>2020-12-01</td>\n",
       "      <td>소년시절의 너</td>\n",
       "      <td>9.40</td>\n",
       "    </tr>\n",
       "    <tr>\n",
       "      <th>3</th>\n",
       "      <td>2020-12-01</td>\n",
       "      <td>페이트 스테이 나이트 헤븐즈필 III.스프링 송</td>\n",
       "      <td>9.23</td>\n",
       "    </tr>\n",
       "    <tr>\n",
       "      <th>4</th>\n",
       "      <td>2020-12-01</td>\n",
       "      <td>톰보이</td>\n",
       "      <td>9.20</td>\n",
       "    </tr>\n",
       "  </tbody>\n",
       "</table>\n",
       "</div>"
      ],
      "text/plain": [
       "        date                        name point\n",
       "0 2020-12-01               극장판 바이올렛 에버가든  9.51\n",
       "1 2020-12-01                    부활: 그 증거  9.43\n",
       "2 2020-12-01                     소년시절의 너  9.40\n",
       "3 2020-12-01  페이트 스테이 나이트 헤븐즈필 III.스프링 송  9.23\n",
       "4 2020-12-01                         톰보이  9.20"
      ]
     },
     "execution_count": 103,
     "metadata": {},
     "output_type": "execute_result"
    }
   ],
   "source": [
    "movie_df = pd.DataFrame(\n",
    "    {\n",
    "        'date' : movie_date\n",
    "        ,'name': movie_name\n",
    "        ,'point':movie_point\n",
    "        \n",
    "    }\n",
    ")\n",
    "movie_df.head()"
   ]
  },
  {
   "cell_type": "code",
   "execution_count": 104,
   "metadata": {},
   "outputs": [
    {
     "name": "stdout",
     "output_type": "stream",
     "text": [
      "<class 'pandas.core.frame.DataFrame'>\n",
      "RangeIndex: 4767 entries, 0 to 4766\n",
      "Data columns (total 3 columns):\n",
      " #   Column  Non-Null Count  Dtype         \n",
      "---  ------  --------------  -----         \n",
      " 0   date    4767 non-null   datetime64[ns]\n",
      " 1   name    4767 non-null   object        \n",
      " 2   point   4767 non-null   object        \n",
      "dtypes: datetime64[ns](1), object(2)\n",
      "memory usage: 111.9+ KB\n"
     ]
    }
   ],
   "source": [
    "movie_df.info()"
   ]
  },
  {
   "cell_type": "code",
   "execution_count": 105,
   "metadata": {},
   "outputs": [
    {
     "name": "stdout",
     "output_type": "stream",
     "text": [
      "<class 'pandas.core.frame.DataFrame'>\n",
      "RangeIndex: 4767 entries, 0 to 4766\n",
      "Data columns (total 3 columns):\n",
      " #   Column  Non-Null Count  Dtype         \n",
      "---  ------  --------------  -----         \n",
      " 0   date    4767 non-null   datetime64[ns]\n",
      " 1   name    4767 non-null   object        \n",
      " 2   point   4767 non-null   float64       \n",
      "dtypes: datetime64[ns](1), float64(1), object(1)\n",
      "memory usage: 111.9+ KB\n"
     ]
    }
   ],
   "source": [
    "#point는 object에서 float으로 바꿔줘야한다.\n",
    "#컬럼 하나는 ndarray\n",
    "movie_df['point'] = movie_df['point'].astype('float')\n",
    "movie_df.info()"
   ]
  },
  {
   "cell_type": "code",
   "execution_count": 106,
   "metadata": {
    "scrolled": true
   },
   "outputs": [
    {
     "data": {
      "text/html": [
       "<div>\n",
       "<style scoped>\n",
       "    .dataframe tbody tr th:only-of-type {\n",
       "        vertical-align: middle;\n",
       "    }\n",
       "\n",
       "    .dataframe tbody tr th {\n",
       "        vertical-align: top;\n",
       "    }\n",
       "\n",
       "    .dataframe thead th {\n",
       "        text-align: right;\n",
       "    }\n",
       "</style>\n",
       "<table border=\"1\" class=\"dataframe\">\n",
       "  <thead>\n",
       "    <tr style=\"text-align: right;\">\n",
       "      <th></th>\n",
       "      <th>point</th>\n",
       "    </tr>\n",
       "    <tr>\n",
       "      <th>name</th>\n",
       "      <th></th>\n",
       "    </tr>\n",
       "  </thead>\n",
       "  <tbody>\n",
       "    <tr>\n",
       "      <th>1917</th>\n",
       "      <td>168.41</td>\n",
       "    </tr>\n",
       "    <tr>\n",
       "      <th>69세</th>\n",
       "      <td>43.15</td>\n",
       "    </tr>\n",
       "    <tr>\n",
       "      <th>800</th>\n",
       "      <td>50.55</td>\n",
       "    </tr>\n",
       "    <tr>\n",
       "      <th>가나의 혼인잔치: 언약</th>\n",
       "      <td>379.81</td>\n",
       "    </tr>\n",
       "    <tr>\n",
       "      <th>가장 따뜻한 색, 블루</th>\n",
       "      <td>114.01</td>\n",
       "    </tr>\n",
       "  </tbody>\n",
       "</table>\n",
       "</div>"
      ],
      "text/plain": [
       "               point\n",
       "name                \n",
       "1917          168.41\n",
       "69세            43.15\n",
       "800            50.55\n",
       "가나의 혼인잔치: 언약  379.81\n",
       "가장 따뜻한 색, 블루  114.01"
      ]
     },
     "execution_count": 106,
     "metadata": {},
     "output_type": "execute_result"
    }
   ],
   "source": [
    "import numpy as np\n",
    "# 영화별 평점의 합을 구하자.\n",
    "movie_unique = pd.pivot_table(movie_df, index=['name'],aggfunc=np.sum)\n",
    "movie_unique.head()"
   ]
  },
  {
   "cell_type": "code",
   "execution_count": 107,
   "metadata": {},
   "outputs": [
    {
     "data": {
      "text/html": [
       "<div>\n",
       "<style scoped>\n",
       "    .dataframe tbody tr th:only-of-type {\n",
       "        vertical-align: middle;\n",
       "    }\n",
       "\n",
       "    .dataframe tbody tr th {\n",
       "        vertical-align: top;\n",
       "    }\n",
       "\n",
       "    .dataframe thead th {\n",
       "        text-align: right;\n",
       "    }\n",
       "</style>\n",
       "<table border=\"1\" class=\"dataframe\">\n",
       "  <thead>\n",
       "    <tr style=\"text-align: right;\">\n",
       "      <th></th>\n",
       "      <th>point</th>\n",
       "    </tr>\n",
       "    <tr>\n",
       "      <th>name</th>\n",
       "      <th></th>\n",
       "    </tr>\n",
       "  </thead>\n",
       "  <tbody>\n",
       "    <tr>\n",
       "      <th>극장판 바이올렛 에버가든</th>\n",
       "      <td>950.53</td>\n",
       "    </tr>\n",
       "    <tr>\n",
       "      <th>너의 췌장을 먹고 싶어</th>\n",
       "      <td>943.29</td>\n",
       "    </tr>\n",
       "    <tr>\n",
       "      <th>부활: 그 증거</th>\n",
       "      <td>938.61</td>\n",
       "    </tr>\n",
       "    <tr>\n",
       "      <th>남매의 여름밤</th>\n",
       "      <td>886.81</td>\n",
       "    </tr>\n",
       "    <tr>\n",
       "      <th>타오르는 여인의 초상</th>\n",
       "      <td>851.70</td>\n",
       "    </tr>\n",
       "    <tr>\n",
       "      <th>...</th>\n",
       "      <td>...</td>\n",
       "    </tr>\n",
       "    <tr>\n",
       "      <th>아가씨</th>\n",
       "      <td>7.14</td>\n",
       "    </tr>\n",
       "    <tr>\n",
       "      <th>소리도 없이</th>\n",
       "      <td>5.63</td>\n",
       "    </tr>\n",
       "    <tr>\n",
       "      <th>레이니 데이 인 뉴욕</th>\n",
       "      <td>5.54</td>\n",
       "    </tr>\n",
       "    <tr>\n",
       "      <th>사라진 시간</th>\n",
       "      <td>4.40</td>\n",
       "    </tr>\n",
       "    <tr>\n",
       "      <th>최미역행</th>\n",
       "      <td>2.43</td>\n",
       "    </tr>\n",
       "  </tbody>\n",
       "</table>\n",
       "<p>187 rows × 1 columns</p>\n",
       "</div>"
      ],
      "text/plain": [
       "                point\n",
       "name                 \n",
       "극장판 바이올렛 에버가든  950.53\n",
       "너의 췌장을 먹고 싶어   943.29\n",
       "부활: 그 증거       938.61\n",
       "남매의 여름밤        886.81\n",
       "타오르는 여인의 초상    851.70\n",
       "...               ...\n",
       "아가씨              7.14\n",
       "소리도 없이           5.63\n",
       "레이니 데이 인 뉴욕      5.54\n",
       "사라진 시간           4.40\n",
       "최미역행             2.43\n",
       "\n",
       "[187 rows x 1 columns]"
      ]
     },
     "execution_count": 107,
     "metadata": {},
     "output_type": "execute_result"
    }
   ],
   "source": [
    "movie_best = movie_unique.sort_values(by=['point'], ascending=False)\n",
    "movie_best"
   ]
  },
  {
   "cell_type": "code",
   "execution_count": 108,
   "metadata": {},
   "outputs": [
    {
     "data": {
      "text/html": [
       "<div>\n",
       "<style scoped>\n",
       "    .dataframe tbody tr th:only-of-type {\n",
       "        vertical-align: middle;\n",
       "    }\n",
       "\n",
       "    .dataframe tbody tr th {\n",
       "        vertical-align: top;\n",
       "    }\n",
       "\n",
       "    .dataframe thead th {\n",
       "        text-align: right;\n",
       "    }\n",
       "</style>\n",
       "<table border=\"1\" class=\"dataframe\">\n",
       "  <thead>\n",
       "    <tr style=\"text-align: right;\">\n",
       "      <th></th>\n",
       "      <th>date</th>\n",
       "      <th>name</th>\n",
       "      <th>point</th>\n",
       "    </tr>\n",
       "  </thead>\n",
       "  <tbody>\n",
       "    <tr>\n",
       "      <th>0</th>\n",
       "      <td>2020-12-01</td>\n",
       "      <td>극장판 바이올렛 에버가든</td>\n",
       "      <td>9.51</td>\n",
       "    </tr>\n",
       "    <tr>\n",
       "      <th>1</th>\n",
       "      <td>2020-12-01</td>\n",
       "      <td>부활: 그 증거</td>\n",
       "      <td>9.43</td>\n",
       "    </tr>\n",
       "    <tr>\n",
       "      <th>2</th>\n",
       "      <td>2020-12-01</td>\n",
       "      <td>소년시절의 너</td>\n",
       "      <td>9.40</td>\n",
       "    </tr>\n",
       "    <tr>\n",
       "      <th>3</th>\n",
       "      <td>2020-12-01</td>\n",
       "      <td>페이트 스테이 나이트 헤븐즈필 III.스프링 송</td>\n",
       "      <td>9.23</td>\n",
       "    </tr>\n",
       "    <tr>\n",
       "      <th>4</th>\n",
       "      <td>2020-12-01</td>\n",
       "      <td>톰보이</td>\n",
       "      <td>9.20</td>\n",
       "    </tr>\n",
       "  </tbody>\n",
       "</table>\n",
       "</div>"
      ],
      "text/plain": [
       "        date                        name  point\n",
       "0 2020-12-01               극장판 바이올렛 에버가든   9.51\n",
       "1 2020-12-01                    부활: 그 증거   9.43\n",
       "2 2020-12-01                     소년시절의 너   9.40\n",
       "3 2020-12-01  페이트 스테이 나이트 헤븐즈필 III.스프링 송   9.23\n",
       "4 2020-12-01                         톰보이   9.20"
      ]
     },
     "execution_count": 108,
     "metadata": {},
     "output_type": "execute_result"
    }
   ],
   "source": [
    "movie_df.head()"
   ]
  },
  {
   "cell_type": "code",
   "execution_count": 109,
   "metadata": {},
   "outputs": [
    {
     "data": {
      "text/html": [
       "<div>\n",
       "<style scoped>\n",
       "    .dataframe tbody tr th:only-of-type {\n",
       "        vertical-align: middle;\n",
       "    }\n",
       "\n",
       "    .dataframe tbody tr th {\n",
       "        vertical-align: top;\n",
       "    }\n",
       "\n",
       "    .dataframe thead th {\n",
       "        text-align: right;\n",
       "    }\n",
       "</style>\n",
       "<table border=\"1\" class=\"dataframe\">\n",
       "  <thead>\n",
       "    <tr style=\"text-align: right;\">\n",
       "      <th></th>\n",
       "      <th>date</th>\n",
       "      <th>name</th>\n",
       "      <th>point</th>\n",
       "    </tr>\n",
       "  </thead>\n",
       "  <tbody>\n",
       "    <tr>\n",
       "      <th>1</th>\n",
       "      <td>2020-12-01</td>\n",
       "      <td>부활: 그 증거</td>\n",
       "      <td>9.43</td>\n",
       "    </tr>\n",
       "    <tr>\n",
       "      <th>51</th>\n",
       "      <td>2020-12-02</td>\n",
       "      <td>부활: 그 증거</td>\n",
       "      <td>9.41</td>\n",
       "    </tr>\n",
       "    <tr>\n",
       "      <th>100</th>\n",
       "      <td>2020-12-03</td>\n",
       "      <td>부활: 그 증거</td>\n",
       "      <td>9.41</td>\n",
       "    </tr>\n",
       "    <tr>\n",
       "      <th>150</th>\n",
       "      <td>2020-12-04</td>\n",
       "      <td>부활: 그 증거</td>\n",
       "      <td>9.41</td>\n",
       "    </tr>\n",
       "    <tr>\n",
       "      <th>200</th>\n",
       "      <td>2020-12-05</td>\n",
       "      <td>부활: 그 증거</td>\n",
       "      <td>9.41</td>\n",
       "    </tr>\n",
       "    <tr>\n",
       "      <th>...</th>\n",
       "      <td>...</td>\n",
       "      <td>...</td>\n",
       "      <td>...</td>\n",
       "    </tr>\n",
       "    <tr>\n",
       "      <th>4521</th>\n",
       "      <td>2021-03-06</td>\n",
       "      <td>부활: 그 증거</td>\n",
       "      <td>9.34</td>\n",
       "    </tr>\n",
       "    <tr>\n",
       "      <th>4570</th>\n",
       "      <td>2021-03-07</td>\n",
       "      <td>부활: 그 증거</td>\n",
       "      <td>9.34</td>\n",
       "    </tr>\n",
       "    <tr>\n",
       "      <th>4621</th>\n",
       "      <td>2021-03-08</td>\n",
       "      <td>부활: 그 증거</td>\n",
       "      <td>9.34</td>\n",
       "    </tr>\n",
       "    <tr>\n",
       "      <th>4671</th>\n",
       "      <td>2021-03-09</td>\n",
       "      <td>부활: 그 증거</td>\n",
       "      <td>9.34</td>\n",
       "    </tr>\n",
       "    <tr>\n",
       "      <th>4721</th>\n",
       "      <td>2021-03-10</td>\n",
       "      <td>부활: 그 증거</td>\n",
       "      <td>9.34</td>\n",
       "    </tr>\n",
       "  </tbody>\n",
       "</table>\n",
       "<p>100 rows × 3 columns</p>\n",
       "</div>"
      ],
      "text/plain": [
       "           date      name  point\n",
       "1    2020-12-01  부활: 그 증거   9.43\n",
       "51   2020-12-02  부활: 그 증거   9.41\n",
       "100  2020-12-03  부활: 그 증거   9.41\n",
       "150  2020-12-04  부활: 그 증거   9.41\n",
       "200  2020-12-05  부활: 그 증거   9.41\n",
       "...         ...       ...    ...\n",
       "4521 2021-03-06  부활: 그 증거   9.34\n",
       "4570 2021-03-07  부활: 그 증거   9.34\n",
       "4621 2021-03-08  부활: 그 증거   9.34\n",
       "4671 2021-03-09  부활: 그 증거   9.34\n",
       "4721 2021-03-10  부활: 그 증거   9.34\n",
       "\n",
       "[100 rows x 3 columns]"
      ]
     },
     "execution_count": 109,
     "metadata": {},
     "output_type": "execute_result"
    }
   ],
   "source": [
    "#query 내부의 대괄호는 큰따옴표로 싸야한다.\n",
    "tmp =movie_df.query('name==[\"부활: 그 증거\"]')\n",
    "tmp"
   ]
  },
  {
   "cell_type": "code",
   "execution_count": 110,
   "metadata": {},
   "outputs": [],
   "source": [
    "import matplotlib.pyplot as plt"
   ]
  },
  {
   "cell_type": "code",
   "execution_count": 113,
   "metadata": {},
   "outputs": [
    {
     "data": {
      "image/png": "[encoded data removed]",
      "text/plain": [
       "<Figure size 864x576 with 1 Axes>"
      ]
     },
     "metadata": {
      "needs_background": "light"
     },
     "output_type": "display_data"
    }
   ],
   "source": [
    "plt.figure(figsize=(12,8))\n",
    "plt.plot(tmp['date'],tmp['point'])\n",
    "plt.show()"
   ]
  },
  {
   "cell_type": "code",
   "execution_count": null,
   "metadata": {},
   "outputs": [],
   "source": [
    "movie_best.head()"
   ]
  },
  {
   "cell_type": "code",
   "execution_count": 114,
   "metadata": {},
   "outputs": [],
   "source": [
    "#영화별 날짜 변화에 따른 평점 변화 확인.\n",
    "#pivot으로 해야합니다. index=date, column = name, value= point\n",
    "movie_pivot = pd.pivot_table(\n",
    "    movie_df\n",
    "    ,index = ['date']\n",
    "    ,columns=['name']\n",
    "    ,values=['point']\n",
    ")"
   ]
  },
  {
   "cell_type": "code",
   "execution_count": 116,
   "metadata": {},
   "outputs": [
    {
     "data": {
      "text/html": [
       "<div>\n",
       "<style scoped>\n",
       "    .dataframe tbody tr th:only-of-type {\n",
       "        vertical-align: middle;\n",
       "    }\n",
       "\n",
       "    .dataframe tbody tr th {\n",
       "        vertical-align: top;\n",
       "    }\n",
       "\n",
       "    .dataframe thead tr th {\n",
       "        text-align: left;\n",
       "    }\n",
       "\n",
       "    .dataframe thead tr:last-of-type th {\n",
       "        text-align: right;\n",
       "    }\n",
       "</style>\n",
       "<table border=\"1\" class=\"dataframe\">\n",
       "  <thead>\n",
       "    <tr>\n",
       "      <th></th>\n",
       "      <th colspan=\"21\" halign=\"left\">point</th>\n",
       "    </tr>\n",
       "    <tr>\n",
       "      <th>name</th>\n",
       "      <th>1917</th>\n",
       "      <th>69세</th>\n",
       "      <th>800</th>\n",
       "      <th>가나의 혼인잔치: 언약</th>\n",
       "      <th>가장 따뜻한 색, 블루</th>\n",
       "      <th>경계선</th>\n",
       "      <th>굿바이</th>\n",
       "      <th>귀여운 여인</th>\n",
       "      <th>그녀</th>\n",
       "      <th>그레이트 뷰티</th>\n",
       "      <th>...</th>\n",
       "      <th>피아노</th>\n",
       "      <th>피아니스트의 전설</th>\n",
       "      <th>하나와 앨리스</th>\n",
       "      <th>해리 포터와 불의 잔</th>\n",
       "      <th>해리가 샐리를 만났을 때</th>\n",
       "      <th>해피 투게더</th>\n",
       "      <th>현기증</th>\n",
       "      <th>협상</th>\n",
       "      <th>호랑이보다 무서운 겨울손님</th>\n",
       "      <th>화양연화</th>\n",
       "    </tr>\n",
       "    <tr>\n",
       "      <th>date</th>\n",
       "      <th></th>\n",
       "      <th></th>\n",
       "      <th></th>\n",
       "      <th></th>\n",
       "      <th></th>\n",
       "      <th></th>\n",
       "      <th></th>\n",
       "      <th></th>\n",
       "      <th></th>\n",
       "      <th></th>\n",
       "      <th></th>\n",
       "      <th></th>\n",
       "      <th></th>\n",
       "      <th></th>\n",
       "      <th></th>\n",
       "      <th></th>\n",
       "      <th></th>\n",
       "      <th></th>\n",
       "      <th></th>\n",
       "      <th></th>\n",
       "      <th></th>\n",
       "    </tr>\n",
       "  </thead>\n",
       "  <tbody>\n",
       "    <tr>\n",
       "      <th>2020-12-01</th>\n",
       "      <td>8.86</td>\n",
       "      <td>NaN</td>\n",
       "      <td>NaN</td>\n",
       "      <td>NaN</td>\n",
       "      <td>NaN</td>\n",
       "      <td>NaN</td>\n",
       "      <td>NaN</td>\n",
       "      <td>8.7</td>\n",
       "      <td>NaN</td>\n",
       "      <td>NaN</td>\n",
       "      <td>...</td>\n",
       "      <td>NaN</td>\n",
       "      <td>NaN</td>\n",
       "      <td>NaN</td>\n",
       "      <td>NaN</td>\n",
       "      <td>8.89</td>\n",
       "      <td>NaN</td>\n",
       "      <td>NaN</td>\n",
       "      <td>NaN</td>\n",
       "      <td>7.03</td>\n",
       "      <td>NaN</td>\n",
       "    </tr>\n",
       "    <tr>\n",
       "      <th>2020-12-02</th>\n",
       "      <td>8.86</td>\n",
       "      <td>NaN</td>\n",
       "      <td>NaN</td>\n",
       "      <td>NaN</td>\n",
       "      <td>NaN</td>\n",
       "      <td>NaN</td>\n",
       "      <td>NaN</td>\n",
       "      <td>8.7</td>\n",
       "      <td>NaN</td>\n",
       "      <td>NaN</td>\n",
       "      <td>...</td>\n",
       "      <td>NaN</td>\n",
       "      <td>NaN</td>\n",
       "      <td>NaN</td>\n",
       "      <td>NaN</td>\n",
       "      <td>8.89</td>\n",
       "      <td>NaN</td>\n",
       "      <td>NaN</td>\n",
       "      <td>NaN</td>\n",
       "      <td>7.03</td>\n",
       "      <td>NaN</td>\n",
       "    </tr>\n",
       "    <tr>\n",
       "      <th>2020-12-03</th>\n",
       "      <td>8.86</td>\n",
       "      <td>NaN</td>\n",
       "      <td>NaN</td>\n",
       "      <td>NaN</td>\n",
       "      <td>NaN</td>\n",
       "      <td>NaN</td>\n",
       "      <td>NaN</td>\n",
       "      <td>8.7</td>\n",
       "      <td>NaN</td>\n",
       "      <td>NaN</td>\n",
       "      <td>...</td>\n",
       "      <td>NaN</td>\n",
       "      <td>NaN</td>\n",
       "      <td>NaN</td>\n",
       "      <td>NaN</td>\n",
       "      <td>8.89</td>\n",
       "      <td>NaN</td>\n",
       "      <td>NaN</td>\n",
       "      <td>NaN</td>\n",
       "      <td>7.03</td>\n",
       "      <td>NaN</td>\n",
       "    </tr>\n",
       "    <tr>\n",
       "      <th>2020-12-04</th>\n",
       "      <td>8.86</td>\n",
       "      <td>NaN</td>\n",
       "      <td>NaN</td>\n",
       "      <td>NaN</td>\n",
       "      <td>NaN</td>\n",
       "      <td>NaN</td>\n",
       "      <td>NaN</td>\n",
       "      <td>8.7</td>\n",
       "      <td>NaN</td>\n",
       "      <td>NaN</td>\n",
       "      <td>...</td>\n",
       "      <td>NaN</td>\n",
       "      <td>NaN</td>\n",
       "      <td>NaN</td>\n",
       "      <td>NaN</td>\n",
       "      <td>8.89</td>\n",
       "      <td>NaN</td>\n",
       "      <td>NaN</td>\n",
       "      <td>NaN</td>\n",
       "      <td>NaN</td>\n",
       "      <td>NaN</td>\n",
       "    </tr>\n",
       "    <tr>\n",
       "      <th>2020-12-05</th>\n",
       "      <td>8.86</td>\n",
       "      <td>NaN</td>\n",
       "      <td>NaN</td>\n",
       "      <td>NaN</td>\n",
       "      <td>NaN</td>\n",
       "      <td>NaN</td>\n",
       "      <td>NaN</td>\n",
       "      <td>8.7</td>\n",
       "      <td>NaN</td>\n",
       "      <td>NaN</td>\n",
       "      <td>...</td>\n",
       "      <td>NaN</td>\n",
       "      <td>NaN</td>\n",
       "      <td>NaN</td>\n",
       "      <td>NaN</td>\n",
       "      <td>8.89</td>\n",
       "      <td>NaN</td>\n",
       "      <td>NaN</td>\n",
       "      <td>NaN</td>\n",
       "      <td>NaN</td>\n",
       "      <td>NaN</td>\n",
       "    </tr>\n",
       "  </tbody>\n",
       "</table>\n",
       "<p>5 rows × 187 columns</p>\n",
       "</div>"
      ],
      "text/plain": [
       "           point                                                               \\\n",
       "name        1917 69세 800 가나의 혼인잔치: 언약 가장 따뜻한 색, 블루 경계선 굿바이 귀여운 여인  그녀 그레이트 뷰티   \n",
       "date                                                                            \n",
       "2020-12-01  8.86 NaN NaN          NaN          NaN NaN NaN    8.7 NaN     NaN   \n",
       "2020-12-02  8.86 NaN NaN          NaN          NaN NaN NaN    8.7 NaN     NaN   \n",
       "2020-12-03  8.86 NaN NaN          NaN          NaN NaN NaN    8.7 NaN     NaN   \n",
       "2020-12-04  8.86 NaN NaN          NaN          NaN NaN NaN    8.7 NaN     NaN   \n",
       "2020-12-05  8.86 NaN NaN          NaN          NaN NaN NaN    8.7 NaN     NaN   \n",
       "\n",
       "            ...                                                             \\\n",
       "name        ... 피아노 피아니스트의 전설 하나와 앨리스 해리 포터와 불의 잔 해리가 샐리를 만났을 때 해피 투게더 현기증   \n",
       "date        ...                                                              \n",
       "2020-12-01  ... NaN       NaN     NaN         NaN          8.89    NaN NaN   \n",
       "2020-12-02  ... NaN       NaN     NaN         NaN          8.89    NaN NaN   \n",
       "2020-12-03  ... NaN       NaN     NaN         NaN          8.89    NaN NaN   \n",
       "2020-12-04  ... NaN       NaN     NaN         NaN          8.89    NaN NaN   \n",
       "2020-12-05  ... NaN       NaN     NaN         NaN          8.89    NaN NaN   \n",
       "\n",
       "                                    \n",
       "name        협상 호랑이보다 무서운 겨울손님 화양연화  \n",
       "date                                \n",
       "2020-12-01 NaN           7.03  NaN  \n",
       "2020-12-02 NaN           7.03  NaN  \n",
       "2020-12-03 NaN           7.03  NaN  \n",
       "2020-12-04 NaN            NaN  NaN  \n",
       "2020-12-05 NaN            NaN  NaN  \n",
       "\n",
       "[5 rows x 187 columns]"
      ]
     },
     "execution_count": 116,
     "metadata": {},
     "output_type": "execute_result"
    }
   ],
   "source": [
    "movie_pivot.head()"
   ]
  },
  {
   "cell_type": "code",
   "execution_count": 117,
   "metadata": {},
   "outputs": [],
   "source": [
    "movie_pivot.columns=movie_pivot.columns.droplevel()"
   ]
  },
  {
   "cell_type": "code",
   "execution_count": 119,
   "metadata": {},
   "outputs": [
    {
     "data": {
      "text/html": [
       "<div>\n",
       "<style scoped>\n",
       "    .dataframe tbody tr th:only-of-type {\n",
       "        vertical-align: middle;\n",
       "    }\n",
       "\n",
       "    .dataframe tbody tr th {\n",
       "        vertical-align: top;\n",
       "    }\n",
       "\n",
       "    .dataframe thead th {\n",
       "        text-align: right;\n",
       "    }\n",
       "</style>\n",
       "<table border=\"1\" class=\"dataframe\">\n",
       "  <thead>\n",
       "    <tr style=\"text-align: right;\">\n",
       "      <th>name</th>\n",
       "      <th>1917</th>\n",
       "      <th>69세</th>\n",
       "      <th>800</th>\n",
       "      <th>가나의 혼인잔치: 언약</th>\n",
       "      <th>가장 따뜻한 색, 블루</th>\n",
       "      <th>경계선</th>\n",
       "      <th>굿바이</th>\n",
       "      <th>귀여운 여인</th>\n",
       "      <th>그녀</th>\n",
       "      <th>그레이트 뷰티</th>\n",
       "      <th>...</th>\n",
       "      <th>피아노</th>\n",
       "      <th>피아니스트의 전설</th>\n",
       "      <th>하나와 앨리스</th>\n",
       "      <th>해리 포터와 불의 잔</th>\n",
       "      <th>해리가 샐리를 만났을 때</th>\n",
       "      <th>해피 투게더</th>\n",
       "      <th>현기증</th>\n",
       "      <th>협상</th>\n",
       "      <th>호랑이보다 무서운 겨울손님</th>\n",
       "      <th>화양연화</th>\n",
       "    </tr>\n",
       "    <tr>\n",
       "      <th>date</th>\n",
       "      <th></th>\n",
       "      <th></th>\n",
       "      <th></th>\n",
       "      <th></th>\n",
       "      <th></th>\n",
       "      <th></th>\n",
       "      <th></th>\n",
       "      <th></th>\n",
       "      <th></th>\n",
       "      <th></th>\n",
       "      <th></th>\n",
       "      <th></th>\n",
       "      <th></th>\n",
       "      <th></th>\n",
       "      <th></th>\n",
       "      <th></th>\n",
       "      <th></th>\n",
       "      <th></th>\n",
       "      <th></th>\n",
       "      <th></th>\n",
       "      <th></th>\n",
       "    </tr>\n",
       "  </thead>\n",
       "  <tbody>\n",
       "    <tr>\n",
       "      <th>2020-12-01</th>\n",
       "      <td>8.86</td>\n",
       "      <td>NaN</td>\n",
       "      <td>NaN</td>\n",
       "      <td>NaN</td>\n",
       "      <td>NaN</td>\n",
       "      <td>NaN</td>\n",
       "      <td>NaN</td>\n",
       "      <td>8.7</td>\n",
       "      <td>NaN</td>\n",
       "      <td>NaN</td>\n",
       "      <td>...</td>\n",
       "      <td>NaN</td>\n",
       "      <td>NaN</td>\n",
       "      <td>NaN</td>\n",
       "      <td>NaN</td>\n",
       "      <td>8.89</td>\n",
       "      <td>NaN</td>\n",
       "      <td>NaN</td>\n",
       "      <td>NaN</td>\n",
       "      <td>7.03</td>\n",
       "      <td>NaN</td>\n",
       "    </tr>\n",
       "  </tbody>\n",
       "</table>\n",
       "<p>1 rows × 187 columns</p>\n",
       "</div>"
      ],
      "text/plain": [
       "name        1917  69세  800  가나의 혼인잔치: 언약  가장 따뜻한 색, 블루  경계선  굿바이  귀여운 여인  그녀  \\\n",
       "date                                                                           \n",
       "2020-12-01  8.86  NaN  NaN           NaN           NaN  NaN  NaN     8.7 NaN   \n",
       "\n",
       "name        그레이트 뷰티  ...  피아노  피아니스트의 전설  하나와 앨리스  해리 포터와 불의 잔  해리가 샐리를 만났을 때  \\\n",
       "date                 ...                                                        \n",
       "2020-12-01      NaN  ...  NaN        NaN      NaN          NaN           8.89   \n",
       "\n",
       "name        해피 투게더  현기증  협상  호랑이보다 무서운 겨울손님  화양연화  \n",
       "date                                               \n",
       "2020-12-01     NaN  NaN NaN            7.03   NaN  \n",
       "\n",
       "[1 rows x 187 columns]"
      ]
     },
     "execution_count": 119,
     "metadata": {},
     "output_type": "execute_result"
    }
   ],
   "source": [
    "movie_pivot.head(1)"
   ]
  },
  {
   "cell_type": "code",
   "execution_count": 122,
   "metadata": {},
   "outputs": [],
   "source": [
    "import platform\n",
    "from matplotlib import font_manager, rc\n",
    "\n",
    "path = \"c:/Windows/Fonts/malgun.ttf\"\n",
    "if platform.system() == 'Darwin':\n",
    "    rc('font', family='AppleGothic')\n",
    "elif platform.system() == 'Windows':\n",
    "    font_name = font_manager.FontProperties(fname=path).get_name()\n",
    "    rc('font', family=font_name)\n",
    "else:\n",
    "    print('Unknown system... sorry~~~~') "
   ]
  },
  {
   "cell_type": "code",
   "execution_count": 126,
   "metadata": {},
   "outputs": [
    {
     "data": {
      "image/png": "[encoded data removed]",
      "text/plain": [
       "<Figure size 864x432 with 1 Axes>"
      ]
     },
     "metadata": {
      "needs_background": "light"
     },
     "output_type": "display_data"
    }
   ],
   "source": [
    "movie_pivot.plot(y=['극장판 바이올렛 에버가든','너의 췌장을 먹고 싶어', '부활: 그 증거', '남매의 여름밤', '타오르는 여인의 초상'],figsize=(12,6))\n",
    "plt.legend(loc='best')\n",
    "plt.grid()\n",
    "plt.show()"
   ]
  },
  {
   "cell_type": "code",
   "execution_count": null,
   "metadata": {},
   "outputs": [],
   "source": []
  }
 ],
 "metadata": {
  "kernelspec": {
   "display_name": "dev-ml",
   "language": "python",
   "name": "dev-ml"
  },
  "language_info": {
   "codemirror_mode": {
    "name": "ipython",
    "version": 3
   },
   "file_extension": ".py",
   "mimetype": "text/x-python",
   "name": "python",
   "nbconvert_exporter": "python",
   "pygments_lexer": "ipython3",
   "version": "3.6.13"
  }
 },
 "nbformat": 4,
 "nbformat_minor": 4
}
