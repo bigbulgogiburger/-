{
  "nbformat": 4,
  "nbformat_minor": 0,
  "metadata": {
    "colab": {
      "name": "LSTMNerualNetworkWOrkout",
      "provenance": [],
      "collapsed_sections": []
    },
    "kernelspec": {
      "name": "python3",
      "display_name": "Python 3"
    },
    "language_info": {
      "name": "python"
    },
    "accelerator": "GPU"
  },
  "cells": [
    {
      "cell_type": "code",
      "metadata": {
        "id": "DuHr0Sj15Bou"
      },
      "source": [
        "from tensorflow.keras.datasets import imdb"
      ],
      "execution_count": null,
      "outputs": []
    },
    {
      "cell_type": "code",
      "metadata": {
        "id": "q5LWluK95NMb"
      },
      "source": [
        "from sklearn.model_selection import train_test_split"
      ],
      "execution_count": null,
      "outputs": []
    },
    {
      "cell_type": "code",
      "metadata": {
        "id": "GxuYjgD5g85j"
      },
      "source": [
        "import pandas as pd\n",
        "import numpy as np\n"
      ],
      "execution_count": null,
      "outputs": []
    },
    {
      "cell_type": "code",
      "metadata": {
        "colab": {
          "base_uri": "https://localhost:8080/"
        },
        "id": "GxS49qds5Sa1",
        "outputId": "648ebbb7-8f7e-42ca-997b-7d6872874997"
      },
      "source": [
        "(train_input,train_target),(test_input,test_target) = imdb.load_data(num_words=500)"
      ],
      "execution_count": null,
      "outputs": [
        {
          "output_type": "stream",
          "text": [
            "Downloading data from https://storage.googleapis.com/tensorflow/tf-keras-datasets/imdb.npz\n",
            "17465344/17464789 [==============================] - 0s 0us/step\n"
          ],
          "name": "stdout"
        },
        {
          "output_type": "stream",
          "text": [
            "<string>:6: VisibleDeprecationWarning: Creating an ndarray from ragged nested sequences (which is a list-or-tuple of lists-or-tuples-or ndarrays with different lengths or shapes) is deprecated. If you meant to do this, you must specify 'dtype=object' when creating the ndarray\n",
            "/usr/local/lib/python3.7/dist-packages/tensorflow/python/keras/datasets/imdb.py:159: VisibleDeprecationWarning: Creating an ndarray from ragged nested sequences (which is a list-or-tuple of lists-or-tuples-or ndarrays with different lengths or shapes) is deprecated. If you meant to do this, you must specify 'dtype=object' when creating the ndarray\n",
            "  x_train, y_train = np.array(xs[:idx]), np.array(labels[:idx])\n",
            "/usr/local/lib/python3.7/dist-packages/tensorflow/python/keras/datasets/imdb.py:160: VisibleDeprecationWarning: Creating an ndarray from ragged nested sequences (which is a list-or-tuple of lists-or-tuples-or ndarrays with different lengths or shapes) is deprecated. If you meant to do this, you must specify 'dtype=object' when creating the ndarray\n",
            "  x_test, y_test = np.array(xs[idx:]), np.array(labels[idx:])\n"
          ],
          "name": "stderr"
        }
      ]
    },
    {
      "cell_type": "code",
      "metadata": {
        "id": "koZiHD1z5xXM"
      },
      "source": [
        "train_input,val_input,train_target,val_target = train_test_split(train_input,train_target, test_size=0.2, random_state=42)"
      ],
      "execution_count": null,
      "outputs": []
    },
    {
      "cell_type": "code",
      "metadata": {
        "id": "Y46AlGYu5851"
      },
      "source": [
        "from tensorflow.keras.preprocessing.sequence import pad_sequences\n",
        "train_seq=pad_sequences(train_input,maxlen=100)\n",
        "val_seq = pad_sequences(val_input,maxlen=100)"
      ],
      "execution_count": null,
      "outputs": []
    },
    {
      "cell_type": "code",
      "metadata": {
        "id": "SBV0YfMD6YYl"
      },
      "source": [
        "from tensorflow import keras"
      ],
      "execution_count": null,
      "outputs": []
    },
    {
      "cell_type": "code",
      "metadata": {
        "id": "YveRxgND6gG6"
      },
      "source": [
        "model = keras.Sequential()"
      ],
      "execution_count": null,
      "outputs": []
    },
    {
      "cell_type": "code",
      "metadata": {
        "id": "vBn-T2BMXp1B"
      },
      "source": [
        "model.add(keras.layers.Embedding(500,16,input_length=100))\n",
        "model.add(keras.layers.LSTM(8))\n",
        "model.add(keras.layers.Dense(1,activation='sigmoid'))"
      ],
      "execution_count": null,
      "outputs": []
    },
    {
      "cell_type": "code",
      "metadata": {
        "colab": {
          "base_uri": "https://localhost:8080/"
        },
        "id": "RB6NgasNXqhB",
        "outputId": "896addad-d07d-459b-8bd4-9f7530d63d28"
      },
      "source": [
        "model.summary()"
      ],
      "execution_count": null,
      "outputs": [
        {
          "output_type": "stream",
          "text": [
            "Model: \"sequential_5\"\n",
            "_________________________________________________________________\n",
            "Layer (type)                 Output Shape              Param #   \n",
            "=================================================================\n",
            "embedding_3 (Embedding)      (None, 100, 16)           8000      \n",
            "_________________________________________________________________\n",
            "lstm_3 (LSTM)                (None, 8)                 800       \n",
            "_________________________________________________________________\n",
            "dense_3 (Dense)              (None, 1)                 9         \n",
            "=================================================================\n",
            "Total params: 8,809\n",
            "Trainable params: 8,809\n",
            "Non-trainable params: 0\n",
            "_________________________________________________________________\n"
          ],
          "name": "stdout"
        }
      ]
    },
    {
      "cell_type": "code",
      "metadata": {
        "colab": {
          "base_uri": "https://localhost:8080/"
        },
        "id": "EddkHbZIXqlg",
        "outputId": "06d22bf9-8d4d-4c6d-b7e4-a0f5630c96b1"
      },
      "source": [
        "rmsprop = keras.optimizers.RMSprop(learning_rate=1e-4)\n",
        "model.compile(optimizer=rmsprop, loss = 'binary_crossentropy', metrics=['accuracy'])\n",
        "checkpoint_cb = keras.callbacks.ModelCheckpoint('best-lstm-model.h5')\n",
        "early_stopping_cb = keras.callbacks.EarlyStopping(patience=3,restore_best_weights=True)\n",
        "history = model.fit(train_seq,train_target,epochs=100\n",
        "                    ,batch_size=64, validation_data=(val_seq, val_target)\n",
        "                    ,callbacks=[checkpoint_cb, early_stopping_cb])"
      ],
      "execution_count": null,
      "outputs": [
        {
          "output_type": "stream",
          "text": [
            "Epoch 1/100\n",
            "313/313 [==============================] - 14s 37ms/step - loss: 0.6929 - accuracy: 0.5114 - val_loss: 0.6916 - val_accuracy: 0.5734\n",
            "Epoch 2/100\n",
            "313/313 [==============================] - 11s 35ms/step - loss: 0.6912 - accuracy: 0.5804 - val_loss: 0.6889 - val_accuracy: 0.6176\n",
            "Epoch 3/100\n",
            "313/313 [==============================] - 11s 35ms/step - loss: 0.6875 - accuracy: 0.6313 - val_loss: 0.6825 - val_accuracy: 0.6464\n",
            "Epoch 4/100\n",
            "313/313 [==============================] - 11s 35ms/step - loss: 0.6778 - accuracy: 0.6629 - val_loss: 0.6584 - val_accuracy: 0.6886\n",
            "Epoch 5/100\n",
            "313/313 [==============================] - 11s 35ms/step - loss: 0.6329 - accuracy: 0.7063 - val_loss: 0.5878 - val_accuracy: 0.7260\n",
            "Epoch 6/100\n",
            "313/313 [==============================] - 11s 35ms/step - loss: 0.5750 - accuracy: 0.7369 - val_loss: 0.5638 - val_accuracy: 0.7380\n",
            "Epoch 7/100\n",
            "313/313 [==============================] - 11s 35ms/step - loss: 0.5497 - accuracy: 0.7553 - val_loss: 0.5446 - val_accuracy: 0.7470\n",
            "Epoch 8/100\n",
            "313/313 [==============================] - 11s 34ms/step - loss: 0.5286 - accuracy: 0.7680 - val_loss: 0.5293 - val_accuracy: 0.7562\n",
            "Epoch 9/100\n",
            "313/313 [==============================] - 11s 34ms/step - loss: 0.5189 - accuracy: 0.7689 - val_loss: 0.5168 - val_accuracy: 0.7608\n",
            "Epoch 10/100\n",
            "313/313 [==============================] - 11s 35ms/step - loss: 0.5025 - accuracy: 0.7791 - val_loss: 0.5035 - val_accuracy: 0.7702\n",
            "Epoch 11/100\n",
            "313/313 [==============================] - 11s 35ms/step - loss: 0.4925 - accuracy: 0.7836 - val_loss: 0.4920 - val_accuracy: 0.7782\n",
            "Epoch 12/100\n",
            "313/313 [==============================] - 11s 35ms/step - loss: 0.4799 - accuracy: 0.7891 - val_loss: 0.4857 - val_accuracy: 0.7788\n",
            "Epoch 13/100\n",
            "313/313 [==============================] - 11s 35ms/step - loss: 0.4685 - accuracy: 0.7941 - val_loss: 0.4750 - val_accuracy: 0.7830\n",
            "Epoch 14/100\n",
            "313/313 [==============================] - 11s 35ms/step - loss: 0.4616 - accuracy: 0.7965 - val_loss: 0.4686 - val_accuracy: 0.7856\n",
            "Epoch 15/100\n",
            "313/313 [==============================] - 11s 35ms/step - loss: 0.4508 - accuracy: 0.8031 - val_loss: 0.4624 - val_accuracy: 0.7874\n",
            "Epoch 16/100\n",
            "313/313 [==============================] - 11s 35ms/step - loss: 0.4442 - accuracy: 0.8012 - val_loss: 0.4548 - val_accuracy: 0.7874\n",
            "Epoch 17/100\n",
            "313/313 [==============================] - 11s 35ms/step - loss: 0.4348 - accuracy: 0.8100 - val_loss: 0.4493 - val_accuracy: 0.7932\n",
            "Epoch 18/100\n",
            "313/313 [==============================] - 11s 35ms/step - loss: 0.4359 - accuracy: 0.8049 - val_loss: 0.4453 - val_accuracy: 0.7946\n",
            "Epoch 19/100\n",
            "313/313 [==============================] - 11s 35ms/step - loss: 0.4268 - accuracy: 0.8094 - val_loss: 0.4428 - val_accuracy: 0.7970\n",
            "Epoch 20/100\n",
            "313/313 [==============================] - 11s 35ms/step - loss: 0.4229 - accuracy: 0.8121 - val_loss: 0.4402 - val_accuracy: 0.7960\n",
            "Epoch 21/100\n",
            "313/313 [==============================] - 11s 35ms/step - loss: 0.4194 - accuracy: 0.8121 - val_loss: 0.4396 - val_accuracy: 0.7952\n",
            "Epoch 22/100\n",
            "313/313 [==============================] - 11s 35ms/step - loss: 0.4168 - accuracy: 0.8144 - val_loss: 0.4364 - val_accuracy: 0.7970\n",
            "Epoch 23/100\n",
            "313/313 [==============================] - 11s 35ms/step - loss: 0.4199 - accuracy: 0.8122 - val_loss: 0.4352 - val_accuracy: 0.7974\n",
            "Epoch 24/100\n",
            "313/313 [==============================] - 11s 35ms/step - loss: 0.4156 - accuracy: 0.8137 - val_loss: 0.4352 - val_accuracy: 0.7984\n",
            "Epoch 25/100\n",
            "313/313 [==============================] - 11s 35ms/step - loss: 0.4112 - accuracy: 0.8172 - val_loss: 0.4369 - val_accuracy: 0.8046\n",
            "Epoch 26/100\n",
            "313/313 [==============================] - 11s 35ms/step - loss: 0.4051 - accuracy: 0.8206 - val_loss: 0.4400 - val_accuracy: 0.8004\n"
          ],
          "name": "stdout"
        }
      ]
    },
    {
      "cell_type": "code",
      "metadata": {
        "colab": {
          "base_uri": "https://localhost:8080/",
          "height": 297
        },
        "id": "MtVfk5FkXqqn",
        "outputId": "dc931e9a-5d2f-42a5-8070-167f20b9d78a"
      },
      "source": [
        "import matplotlib.pyplot as plt\n",
        "plt.plot(history.history['loss'])\n",
        "plt.plot(history.history['val_loss'])\n",
        "plt.xlabel('epoch')\n",
        "plt.ylabel('loss')\n",
        "plt.legend(['train','val'])"
      ],
      "execution_count": null,
      "outputs": [
        {
          "output_type": "execute_result",
          "data": {
            "text/plain": [
              "<matplotlib.legend.Legend at 0x7fb5fc4dc190>"
            ]
          },
          "metadata": {
            "tags": []
          },
          "execution_count": 71
        },
        {
          "output_type": "display_data",
          "data": {
            "image/png": "[encoded data removed]",
            "text/plain": [
              "<Figure size 432x288 with 1 Axes>"
            ]
          },
          "metadata": {
            "tags": [],
            "needs_background": "light"
          }
        }
      ]
    },
    {
      "cell_type": "code",
      "metadata": {
        "id": "FUjpDrShXqwj"
      },
      "source": [
        "model2 = keras.Sequential()\n",
        "model2.add(keras.layers.Embedding(500,16,input_length=100))\n",
        "model2.add(keras.layers.LSTM(8,dropout=0.3))\n",
        "model2.add(keras.layers.Dense(1,activation='sigmoid'))"
      ],
      "execution_count": null,
      "outputs": []
    },
    {
      "cell_type": "code",
      "metadata": {
        "colab": {
          "base_uri": "https://localhost:8080/"
        },
        "id": "mE0v6Deyo7te",
        "outputId": "c18145f9-521b-4943-d081-d520904ca731"
      },
      "source": [
        "rmsprop = keras.optimizers.RMSprop(learning_rate=1e-4)\n",
        "model2.compile(optimizer=rmsprop, loss = 'binary_crossentropy', metrics=['accuracy'])\n",
        "checkpoint_cb = keras.callbacks.ModelCheckpoint('best-dropout-model.h5')\n",
        "early_stopping_cb = keras.callbacks.EarlyStopping(patience=3,restore_best_weights=True)\n",
        "history = model2.fit(train_seq,train_target,epochs=100\n",
        "                    ,batch_size=64, validation_data=(val_seq, val_target)\n",
        "                    ,callbacks=[checkpoint_cb, early_stopping_cb])"
      ],
      "execution_count": null,
      "outputs": [
        {
          "output_type": "stream",
          "text": [
            "Epoch 1/100\n",
            "313/313 [==============================] - 13s 35ms/step - loss: 0.6929 - accuracy: 0.5098 - val_loss: 0.6917 - val_accuracy: 0.5918\n",
            "Epoch 2/100\n",
            "313/313 [==============================] - 11s 35ms/step - loss: 0.6907 - accuracy: 0.6037 - val_loss: 0.6869 - val_accuracy: 0.6520\n",
            "Epoch 3/100\n",
            "313/313 [==============================] - 11s 36ms/step - loss: 0.6814 - accuracy: 0.6675 - val_loss: 0.6503 - val_accuracy: 0.7040\n",
            "Epoch 4/100\n",
            "313/313 [==============================] - 11s 36ms/step - loss: 0.6387 - accuracy: 0.6983 - val_loss: 0.6195 - val_accuracy: 0.7008\n",
            "Epoch 5/100\n",
            "313/313 [==============================] - 11s 36ms/step - loss: 0.6165 - accuracy: 0.7032 - val_loss: 0.6009 - val_accuracy: 0.7156\n",
            "Epoch 6/100\n",
            "313/313 [==============================] - 11s 36ms/step - loss: 0.5958 - accuracy: 0.7238 - val_loss: 0.5814 - val_accuracy: 0.7344\n",
            "Epoch 7/100\n",
            "313/313 [==============================] - 11s 37ms/step - loss: 0.5796 - accuracy: 0.7343 - val_loss: 0.5647 - val_accuracy: 0.7404\n",
            "Epoch 8/100\n",
            "313/313 [==============================] - 12s 37ms/step - loss: 0.5608 - accuracy: 0.7456 - val_loss: 0.5492 - val_accuracy: 0.7500\n",
            "Epoch 9/100\n",
            "313/313 [==============================] - 11s 36ms/step - loss: 0.5441 - accuracy: 0.7583 - val_loss: 0.5329 - val_accuracy: 0.7676\n",
            "Epoch 10/100\n",
            "313/313 [==============================] - 11s 37ms/step - loss: 0.5325 - accuracy: 0.7661 - val_loss: 0.5181 - val_accuracy: 0.7742\n",
            "Epoch 11/100\n",
            "313/313 [==============================] - 11s 37ms/step - loss: 0.5158 - accuracy: 0.7720 - val_loss: 0.5048 - val_accuracy: 0.7822\n",
            "Epoch 12/100\n",
            "313/313 [==============================] - 11s 37ms/step - loss: 0.5016 - accuracy: 0.7808 - val_loss: 0.4971 - val_accuracy: 0.7792\n",
            "Epoch 13/100\n",
            "313/313 [==============================] - 11s 36ms/step - loss: 0.4869 - accuracy: 0.7894 - val_loss: 0.4828 - val_accuracy: 0.7870\n",
            "Epoch 14/100\n",
            "313/313 [==============================] - 11s 36ms/step - loss: 0.4732 - accuracy: 0.7953 - val_loss: 0.4739 - val_accuracy: 0.7916\n",
            "Epoch 15/100\n",
            "313/313 [==============================] - 11s 36ms/step - loss: 0.4663 - accuracy: 0.7960 - val_loss: 0.4688 - val_accuracy: 0.7914\n",
            "Epoch 16/100\n",
            "313/313 [==============================] - 11s 36ms/step - loss: 0.4662 - accuracy: 0.7949 - val_loss: 0.4634 - val_accuracy: 0.7904\n",
            "Epoch 17/100\n",
            "313/313 [==============================] - 11s 36ms/step - loss: 0.4614 - accuracy: 0.7939 - val_loss: 0.4599 - val_accuracy: 0.7916\n",
            "Epoch 18/100\n",
            "313/313 [==============================] - 11s 36ms/step - loss: 0.4495 - accuracy: 0.8034 - val_loss: 0.4584 - val_accuracy: 0.7926\n",
            "Epoch 19/100\n",
            "313/313 [==============================] - 11s 36ms/step - loss: 0.4454 - accuracy: 0.8010 - val_loss: 0.4535 - val_accuracy: 0.7956\n",
            "Epoch 20/100\n",
            "313/313 [==============================] - 11s 36ms/step - loss: 0.4419 - accuracy: 0.8033 - val_loss: 0.4500 - val_accuracy: 0.7922\n",
            "Epoch 21/100\n",
            "313/313 [==============================] - 12s 37ms/step - loss: 0.4435 - accuracy: 0.8016 - val_loss: 0.4475 - val_accuracy: 0.7948\n",
            "Epoch 22/100\n",
            "313/313 [==============================] - 12s 37ms/step - loss: 0.4421 - accuracy: 0.8020 - val_loss: 0.4478 - val_accuracy: 0.7962\n",
            "Epoch 23/100\n",
            "313/313 [==============================] - 11s 36ms/step - loss: 0.4331 - accuracy: 0.8055 - val_loss: 0.4466 - val_accuracy: 0.7918\n",
            "Epoch 24/100\n",
            "313/313 [==============================] - 11s 36ms/step - loss: 0.4304 - accuracy: 0.8059 - val_loss: 0.4430 - val_accuracy: 0.7946\n",
            "Epoch 25/100\n",
            "313/313 [==============================] - 11s 36ms/step - loss: 0.4258 - accuracy: 0.8104 - val_loss: 0.4429 - val_accuracy: 0.7992\n",
            "Epoch 26/100\n",
            "313/313 [==============================] - 11s 36ms/step - loss: 0.4264 - accuracy: 0.8060 - val_loss: 0.4400 - val_accuracy: 0.7964\n",
            "Epoch 27/100\n",
            "313/313 [==============================] - 11s 36ms/step - loss: 0.4303 - accuracy: 0.8039 - val_loss: 0.4394 - val_accuracy: 0.7932\n",
            "Epoch 28/100\n",
            "313/313 [==============================] - 11s 36ms/step - loss: 0.4220 - accuracy: 0.8101 - val_loss: 0.4398 - val_accuracy: 0.7916\n",
            "Epoch 29/100\n",
            "313/313 [==============================] - 11s 36ms/step - loss: 0.4211 - accuracy: 0.8101 - val_loss: 0.4376 - val_accuracy: 0.7978\n",
            "Epoch 30/100\n",
            "313/313 [==============================] - 11s 36ms/step - loss: 0.4188 - accuracy: 0.8109 - val_loss: 0.4374 - val_accuracy: 0.7996\n",
            "Epoch 31/100\n",
            "313/313 [==============================] - 11s 36ms/step - loss: 0.4205 - accuracy: 0.8128 - val_loss: 0.4361 - val_accuracy: 0.7968\n",
            "Epoch 32/100\n",
            "313/313 [==============================] - 11s 36ms/step - loss: 0.4233 - accuracy: 0.8069 - val_loss: 0.4381 - val_accuracy: 0.7918\n",
            "Epoch 33/100\n",
            "313/313 [==============================] - 11s 36ms/step - loss: 0.4243 - accuracy: 0.8028 - val_loss: 0.4358 - val_accuracy: 0.8018\n",
            "Epoch 34/100\n",
            "313/313 [==============================] - 11s 36ms/step - loss: 0.4172 - accuracy: 0.8101 - val_loss: 0.4349 - val_accuracy: 0.7958\n",
            "Epoch 35/100\n",
            "313/313 [==============================] - 11s 36ms/step - loss: 0.4174 - accuracy: 0.8068 - val_loss: 0.4339 - val_accuracy: 0.7996\n",
            "Epoch 36/100\n",
            "313/313 [==============================] - 11s 36ms/step - loss: 0.4236 - accuracy: 0.8068 - val_loss: 0.4335 - val_accuracy: 0.7992\n",
            "Epoch 37/100\n",
            "313/313 [==============================] - 12s 37ms/step - loss: 0.4120 - accuracy: 0.8106 - val_loss: 0.4344 - val_accuracy: 0.8028\n",
            "Epoch 38/100\n",
            "313/313 [==============================] - 12s 37ms/step - loss: 0.4200 - accuracy: 0.8071 - val_loss: 0.4361 - val_accuracy: 0.7952\n",
            "Epoch 39/100\n",
            "313/313 [==============================] - 12s 37ms/step - loss: 0.4186 - accuracy: 0.8090 - val_loss: 0.4324 - val_accuracy: 0.8022\n",
            "Epoch 40/100\n",
            "313/313 [==============================] - 12s 37ms/step - loss: 0.4096 - accuracy: 0.8132 - val_loss: 0.4337 - val_accuracy: 0.8030\n",
            "Epoch 41/100\n",
            "313/313 [==============================] - 11s 37ms/step - loss: 0.4152 - accuracy: 0.8084 - val_loss: 0.4319 - val_accuracy: 0.8000\n",
            "Epoch 42/100\n",
            "313/313 [==============================] - 11s 36ms/step - loss: 0.4166 - accuracy: 0.8086 - val_loss: 0.4316 - val_accuracy: 0.8022\n",
            "Epoch 43/100\n",
            "313/313 [==============================] - 12s 37ms/step - loss: 0.4108 - accuracy: 0.8141 - val_loss: 0.4310 - val_accuracy: 0.8022\n",
            "Epoch 44/100\n",
            "313/313 [==============================] - 12s 37ms/step - loss: 0.4077 - accuracy: 0.8131 - val_loss: 0.4304 - val_accuracy: 0.7986\n",
            "Epoch 45/100\n",
            "313/313 [==============================] - 12s 37ms/step - loss: 0.4104 - accuracy: 0.8097 - val_loss: 0.4325 - val_accuracy: 0.8016\n",
            "Epoch 46/100\n",
            "313/313 [==============================] - 11s 37ms/step - loss: 0.4099 - accuracy: 0.8125 - val_loss: 0.4305 - val_accuracy: 0.8028\n",
            "Epoch 47/100\n",
            "313/313 [==============================] - 12s 37ms/step - loss: 0.4079 - accuracy: 0.8137 - val_loss: 0.4304 - val_accuracy: 0.8046\n"
          ],
          "name": "stdout"
        }
      ]
    },
    {
      "cell_type": "code",
      "metadata": {
        "colab": {
          "base_uri": "https://localhost:8080/",
          "height": 279
        },
        "id": "wDHVXCAQpD-S",
        "outputId": "2fe13102-81f3-4ef4-e426-237461b9ba1a"
      },
      "source": [
        "\n",
        "plt.plot(history.history['loss'])\n",
        "plt.plot(history.history['val_loss'])\n",
        "plt.xlabel('epoch')\n",
        "plt.ylabel('loss')\n",
        "plt.legend(['train','val'])\n",
        "plt.show()"
      ],
      "execution_count": null,
      "outputs": [
        {
          "output_type": "display_data",
          "data": {
            "image/png": "[encoded data removed]",
            "text/plain": [
              "<Figure size 432x288 with 1 Axes>"
            ]
          },
          "metadata": {
            "tags": [],
            "needs_background": "light"
          }
        }
      ]
    },
    {
      "cell_type": "code",
      "metadata": {
        "id": "LxD8iHsWqKHd"
      },
      "source": [
        "model3 =keras.Sequential()\n",
        "model3.add(keras.layers.Embedding(500,16,input_length=100))\n",
        "model3.add(keras.layers.LSTM(8,dropout=0.3,return_sequences=True))\n",
        "model3.add(keras.layers.LSTM(8,dropout=0.3))\n",
        "model3.add(keras.layers.Dense(1,activation='sigmoid'))"
      ],
      "execution_count": null,
      "outputs": []
    },
    {
      "cell_type": "code",
      "metadata": {
        "colab": {
          "base_uri": "https://localhost:8080/"
        },
        "id": "TzDJuF-yrKTX",
        "outputId": "e23eeccb-4a6f-437e-91fe-ee80cbf11b12"
      },
      "source": [
        "model3.summary()"
      ],
      "execution_count": null,
      "outputs": [
        {
          "output_type": "stream",
          "text": [
            "Model: \"sequential_9\"\n",
            "_________________________________________________________________\n",
            "Layer (type)                 Output Shape              Param #   \n",
            "=================================================================\n",
            "embedding_7 (Embedding)      (None, 100, 16)           8000      \n",
            "_________________________________________________________________\n",
            "lstm_8 (LSTM)                (None, 100, 8)            800       \n",
            "_________________________________________________________________\n",
            "lstm_9 (LSTM)                (None, 8)                 544       \n",
            "_________________________________________________________________\n",
            "dense_7 (Dense)              (None, 1)                 9         \n",
            "=================================================================\n",
            "Total params: 9,353\n",
            "Trainable params: 9,353\n",
            "Non-trainable params: 0\n",
            "_________________________________________________________________\n"
          ],
          "name": "stdout"
        }
      ]
    },
    {
      "cell_type": "code",
      "metadata": {
        "colab": {
          "base_uri": "https://localhost:8080/"
        },
        "id": "4YEI3VfArNKS",
        "outputId": "cc809811-588b-4a64-e732-d4e03dce378a"
      },
      "source": [
        "rmsprop = keras.optimizers.RMSprop(learning_rate=1e-4)\n",
        "model3.compile(optimizer=rmsprop, loss = 'binary_crossentropy', metrics=['accuracy'])\n",
        "checkpoint_cb = keras.callbacks.ModelCheckpoint('best-dropout-model.h5')\n",
        "early_stopping_cb = keras.callbacks.EarlyStopping(patience=3,restore_best_weights=True)\n",
        "history = model3.fit(train_seq,train_target,epochs=100\n",
        "                    ,batch_size=64, validation_data=(val_seq, val_target)\n",
        "                    ,callbacks=[checkpoint_cb, early_stopping_cb])"
      ],
      "execution_count": null,
      "outputs": [
        {
          "output_type": "stream",
          "text": [
            "Epoch 1/100\n",
            "313/313 [==============================] - 26s 71ms/step - loss: 0.6931 - accuracy: 0.5058 - val_loss: 0.6930 - val_accuracy: 0.4932\n",
            "Epoch 2/100\n",
            "313/313 [==============================] - 21s 69ms/step - loss: 0.6925 - accuracy: 0.5220 - val_loss: 0.6901 - val_accuracy: 0.5778\n",
            "Epoch 3/100\n",
            "313/313 [==============================] - 22s 69ms/step - loss: 0.6819 - accuracy: 0.6114 - val_loss: 0.6398 - val_accuracy: 0.6850\n",
            "Epoch 4/100\n",
            "313/313 [==============================] - 22s 69ms/step - loss: 0.6330 - accuracy: 0.6832 - val_loss: 0.5985 - val_accuracy: 0.7150\n",
            "Epoch 5/100\n",
            "313/313 [==============================] - 22s 69ms/step - loss: 0.5875 - accuracy: 0.7211 - val_loss: 0.5618 - val_accuracy: 0.7458\n",
            "Epoch 6/100\n",
            "313/313 [==============================] - 21s 69ms/step - loss: 0.5558 - accuracy: 0.7457 - val_loss: 0.5372 - val_accuracy: 0.7616\n",
            "Epoch 7/100\n",
            "313/313 [==============================] - 21s 68ms/step - loss: 0.5374 - accuracy: 0.7518 - val_loss: 0.5231 - val_accuracy: 0.7576\n",
            "Epoch 8/100\n",
            "313/313 [==============================] - 21s 68ms/step - loss: 0.5129 - accuracy: 0.7682 - val_loss: 0.5078 - val_accuracy: 0.7762\n",
            "Epoch 9/100\n",
            "313/313 [==============================] - 21s 68ms/step - loss: 0.4997 - accuracy: 0.7733 - val_loss: 0.4906 - val_accuracy: 0.7824\n",
            "Epoch 10/100\n",
            "313/313 [==============================] - 21s 68ms/step - loss: 0.4871 - accuracy: 0.7786 - val_loss: 0.4792 - val_accuracy: 0.7854\n",
            "Epoch 11/100\n",
            "313/313 [==============================] - 22s 69ms/step - loss: 0.4826 - accuracy: 0.7767 - val_loss: 0.4704 - val_accuracy: 0.7882\n",
            "Epoch 12/100\n",
            "313/313 [==============================] - 22s 70ms/step - loss: 0.4734 - accuracy: 0.7814 - val_loss: 0.4678 - val_accuracy: 0.7858\n",
            "Epoch 13/100\n",
            "313/313 [==============================] - 22s 69ms/step - loss: 0.4716 - accuracy: 0.7851 - val_loss: 0.4601 - val_accuracy: 0.7898\n",
            "Epoch 14/100\n",
            "313/313 [==============================] - 22s 69ms/step - loss: 0.4554 - accuracy: 0.7922 - val_loss: 0.4565 - val_accuracy: 0.7916\n",
            "Epoch 15/100\n",
            "313/313 [==============================] - 22s 69ms/step - loss: 0.4517 - accuracy: 0.7998 - val_loss: 0.4552 - val_accuracy: 0.7898\n",
            "Epoch 16/100\n",
            "313/313 [==============================] - 22s 69ms/step - loss: 0.4434 - accuracy: 0.7995 - val_loss: 0.4532 - val_accuracy: 0.7954\n",
            "Epoch 17/100\n",
            "313/313 [==============================] - 22s 69ms/step - loss: 0.4527 - accuracy: 0.7902 - val_loss: 0.4497 - val_accuracy: 0.7942\n",
            "Epoch 18/100\n",
            "313/313 [==============================] - 21s 69ms/step - loss: 0.4491 - accuracy: 0.7947 - val_loss: 0.4491 - val_accuracy: 0.7964\n",
            "Epoch 19/100\n",
            "313/313 [==============================] - 22s 69ms/step - loss: 0.4412 - accuracy: 0.7970 - val_loss: 0.4479 - val_accuracy: 0.7932\n",
            "Epoch 20/100\n",
            "313/313 [==============================] - 22s 70ms/step - loss: 0.4396 - accuracy: 0.8006 - val_loss: 0.4535 - val_accuracy: 0.7920\n",
            "Epoch 21/100\n",
            "313/313 [==============================] - 22s 69ms/step - loss: 0.4439 - accuracy: 0.7959 - val_loss: 0.4441 - val_accuracy: 0.7976\n",
            "Epoch 22/100\n",
            "313/313 [==============================] - 22s 69ms/step - loss: 0.4372 - accuracy: 0.8016 - val_loss: 0.4448 - val_accuracy: 0.7966\n",
            "Epoch 23/100\n",
            "313/313 [==============================] - 21s 69ms/step - loss: 0.4334 - accuracy: 0.8013 - val_loss: 0.4466 - val_accuracy: 0.7968\n",
            "Epoch 24/100\n",
            "313/313 [==============================] - 21s 68ms/step - loss: 0.4336 - accuracy: 0.8005 - val_loss: 0.4423 - val_accuracy: 0.7974\n",
            "Epoch 25/100\n",
            "313/313 [==============================] - 21s 68ms/step - loss: 0.4346 - accuracy: 0.7970 - val_loss: 0.4456 - val_accuracy: 0.7890\n",
            "Epoch 26/100\n",
            "313/313 [==============================] - 21s 68ms/step - loss: 0.4355 - accuracy: 0.8013 - val_loss: 0.4400 - val_accuracy: 0.7960\n",
            "Epoch 27/100\n",
            "313/313 [==============================] - 21s 68ms/step - loss: 0.4293 - accuracy: 0.8026 - val_loss: 0.4401 - val_accuracy: 0.7972\n",
            "Epoch 28/100\n",
            "313/313 [==============================] - 22s 69ms/step - loss: 0.4203 - accuracy: 0.8083 - val_loss: 0.4396 - val_accuracy: 0.7950\n",
            "Epoch 29/100\n",
            "313/313 [==============================] - 22s 69ms/step - loss: 0.4293 - accuracy: 0.8029 - val_loss: 0.4385 - val_accuracy: 0.7972\n",
            "Epoch 30/100\n",
            "313/313 [==============================] - 22s 69ms/step - loss: 0.4271 - accuracy: 0.8083 - val_loss: 0.4391 - val_accuracy: 0.7988\n",
            "Epoch 31/100\n",
            "313/313 [==============================] - 21s 68ms/step - loss: 0.4281 - accuracy: 0.8061 - val_loss: 0.4384 - val_accuracy: 0.8002\n",
            "Epoch 32/100\n",
            "313/313 [==============================] - 21s 68ms/step - loss: 0.4276 - accuracy: 0.8018 - val_loss: 0.4384 - val_accuracy: 0.8000\n",
            "Epoch 33/100\n",
            "313/313 [==============================] - 22s 69ms/step - loss: 0.4341 - accuracy: 0.7994 - val_loss: 0.4422 - val_accuracy: 0.7904\n",
            "Epoch 34/100\n",
            "313/313 [==============================] - 22s 69ms/step - loss: 0.4227 - accuracy: 0.8060 - val_loss: 0.4365 - val_accuracy: 0.7976\n",
            "Epoch 35/100\n",
            "313/313 [==============================] - 21s 68ms/step - loss: 0.4238 - accuracy: 0.8070 - val_loss: 0.4425 - val_accuracy: 0.7912\n",
            "Epoch 36/100\n",
            "313/313 [==============================] - 22s 69ms/step - loss: 0.4196 - accuracy: 0.8094 - val_loss: 0.4412 - val_accuracy: 0.7986\n",
            "Epoch 37/100\n",
            "313/313 [==============================] - 22s 69ms/step - loss: 0.4222 - accuracy: 0.8096 - val_loss: 0.4357 - val_accuracy: 0.7998\n",
            "Epoch 38/100\n",
            "313/313 [==============================] - 22s 69ms/step - loss: 0.4220 - accuracy: 0.8072 - val_loss: 0.4355 - val_accuracy: 0.7986\n",
            "Epoch 39/100\n",
            "313/313 [==============================] - 22s 69ms/step - loss: 0.4212 - accuracy: 0.8075 - val_loss: 0.4352 - val_accuracy: 0.7992\n",
            "Epoch 40/100\n",
            "313/313 [==============================] - 21s 68ms/step - loss: 0.4235 - accuracy: 0.8067 - val_loss: 0.4354 - val_accuracy: 0.8008\n",
            "Epoch 41/100\n",
            "313/313 [==============================] - 21s 69ms/step - loss: 0.4148 - accuracy: 0.8095 - val_loss: 0.4348 - val_accuracy: 0.8024\n",
            "Epoch 42/100\n",
            "313/313 [==============================] - 22s 69ms/step - loss: 0.4108 - accuracy: 0.8115 - val_loss: 0.4339 - val_accuracy: 0.7998\n",
            "Epoch 43/100\n",
            "313/313 [==============================] - 21s 69ms/step - loss: 0.4138 - accuracy: 0.8114 - val_loss: 0.4340 - val_accuracy: 0.8010\n",
            "Epoch 44/100\n",
            "313/313 [==============================] - 22s 69ms/step - loss: 0.4226 - accuracy: 0.8039 - val_loss: 0.4367 - val_accuracy: 0.8014\n",
            "Epoch 45/100\n",
            "313/313 [==============================] - 22s 70ms/step - loss: 0.4183 - accuracy: 0.8108 - val_loss: 0.4349 - val_accuracy: 0.7954\n"
          ],
          "name": "stdout"
        }
      ]
    },
    {
      "cell_type": "code",
      "metadata": {
        "colab": {
          "base_uri": "https://localhost:8080/",
          "height": 279
        },
        "id": "bZ1Io6RqyjcV",
        "outputId": "af379808-beea-4889-f6fe-56f8b2e9431d"
      },
      "source": [
        "\n",
        "plt.plot(history.history['loss'])\n",
        "plt.plot(history.history['val_loss'])\n",
        "plt.xlabel('epoch')\n",
        "plt.ylabel('loss')\n",
        "plt.legend(['train','val'])\n",
        "plt.show()"
      ],
      "execution_count": null,
      "outputs": [
        {
          "output_type": "display_data",
          "data": {
            "image/png": "[encoded data removed]",
            "text/plain": [
              "<Figure size 432x288 with 1 Axes>"
            ]
          },
          "metadata": {
            "tags": [],
            "needs_background": "light"
          }
        }
      ]
    },
    {
      "cell_type": "code",
      "metadata": {
        "id": "PmxbA18yymy_"
      },
      "source": [
        "model4 = keras.Sequential()\n",
        "model4.add(keras.layers.Embedding(500,16,input_length=100))\n",
        "model4.add(keras.layers.GRU(8))\n",
        "model4.add(keras.layers.Dense(1,activation='sigmoid'))"
      ],
      "execution_count": null,
      "outputs": []
    },
    {
      "cell_type": "code",
      "metadata": {
        "colab": {
          "base_uri": "https://localhost:8080/"
        },
        "id": "2uK26Ez-zIpZ",
        "outputId": "3fbb616c-e292-4e9b-d37b-056fcb7e50bb"
      },
      "source": [
        "model4.summary()"
      ],
      "execution_count": null,
      "outputs": [
        {
          "output_type": "stream",
          "text": [
            "Model: \"sequential_1\"\n",
            "_________________________________________________________________\n",
            "Layer (type)                 Output Shape              Param #   \n",
            "=================================================================\n",
            "embedding (Embedding)        (None, 100, 16)           8000      \n",
            "_________________________________________________________________\n",
            "gru (GRU)                    (None, 8)                 624       \n",
            "_________________________________________________________________\n",
            "dense (Dense)                (None, 1)                 9         \n",
            "=================================================================\n",
            "Total params: 8,633\n",
            "Trainable params: 8,633\n",
            "Non-trainable params: 0\n",
            "_________________________________________________________________\n"
          ],
          "name": "stdout"
        }
      ]
    },
    {
      "cell_type": "code",
      "metadata": {
        "colab": {
          "base_uri": "https://localhost:8080/"
        },
        "id": "bqFWBT5ezKbh",
        "outputId": "e488d6e0-c80d-4d93-8b74-e8c0dedff5c5"
      },
      "source": [
        "rmsprop = keras.optimizers.RMSprop(learning_rate=1e-4)\n",
        "model4.compile(optimizer=rmsprop, loss = 'binary_crossentropy', metrics=['accuracy'])\n",
        "checkpoint_cb = keras.callbacks.ModelCheckpoint('best-gru-model.h5')\n",
        "early_stopping_cb = keras.callbacks.EarlyStopping(patience=3,restore_best_weights=True)\n",
        "history = model4.fit(train_seq,train_target,epochs=100\n",
        "                    ,batch_size=64, validation_data=(val_seq, val_target)\n",
        "                    ,callbacks=[checkpoint_cb, early_stopping_cb])"
      ],
      "execution_count": null,
      "outputs": [
        {
          "output_type": "stream",
          "text": [
            "Epoch 1/100\n",
            "313/313 [==============================] - 6s 11ms/step - loss: 0.4107 - accuracy: 0.8170 - val_loss: 0.4384 - val_accuracy: 0.7990\n",
            "Epoch 2/100\n",
            "313/313 [==============================] - 3s 9ms/step - loss: 0.4157 - accuracy: 0.8125 - val_loss: 0.4373 - val_accuracy: 0.7984\n",
            "Epoch 3/100\n",
            "313/313 [==============================] - 3s 9ms/step - loss: 0.4039 - accuracy: 0.8209 - val_loss: 0.4375 - val_accuracy: 0.7970\n",
            "Epoch 4/100\n",
            "313/313 [==============================] - 3s 10ms/step - loss: 0.4116 - accuracy: 0.8148 - val_loss: 0.4379 - val_accuracy: 0.7964\n",
            "Epoch 5/100\n",
            "313/313 [==============================] - 3s 10ms/step - loss: 0.4102 - accuracy: 0.8171 - val_loss: 0.4385 - val_accuracy: 0.7932\n"
          ],
          "name": "stdout"
        }
      ]
    },
    {
      "cell_type": "code",
      "metadata": {
        "colab": {
          "base_uri": "https://localhost:8080/",
          "height": 279
        },
        "id": "r3HcBtRo0_OM",
        "outputId": "770b9c4c-3716-4e58-b4b0-aaecc50cc525"
      },
      "source": [
        "import matplotlib.pyplot as plt\n",
        "plt.plot(history.history['loss'])\n",
        "plt.plot(history.history['val_loss'])\n",
        "plt.xlabel('epoch')\n",
        "plt.ylabel('loss')\n",
        "plt.legend(['train','val'])\n",
        "plt.show()"
      ],
      "execution_count": null,
      "outputs": [
        {
          "output_type": "display_data",
          "data": {
            "image/png": "[encoded data removed]",
            "text/plain": [
              "<Figure size 432x288 with 1 Axes>"
            ]
          },
          "metadata": {
            "tags": [],
            "needs_background": "light"
          }
        }
      ]
    },
    {
      "cell_type": "code",
      "metadata": {
        "colab": {
          "base_uri": "https://localhost:8080/"
        },
        "id": "7kj9h7i9OPsr",
        "outputId": "b468c343-9d69-4080-8827-6d028c17ed53"
      },
      "source": [
        "import matplotlib.pyplot as plt\n",
        "from tensorflow.keras.preprocessing.sequence import pad_sequences\n",
        "from tensorflow import keras\n",
        "from tensorflow.keras.datasets import imdb\n",
        "from sklearn.model_selection import train_test_split\n",
        "import pandas as pd\n",
        "import numpy as np\n",
        "\n",
        "(train_input,train_target),(test_input,test_target) = imdb.load_data(num_words=500)\n",
        "train_input,val_input,train_target,val_target = train_test_split(train_input,train_target, test_size=0.2, random_state=42)"
      ],
      "execution_count": 4,
      "outputs": [
        {
          "output_type": "stream",
          "text": [
            "Downloading data from https://storage.googleapis.com/tensorflow/tf-keras-datasets/imdb.npz\n",
            "17465344/17464789 [==============================] - 0s 0us/step\n"
          ],
          "name": "stdout"
        },
        {
          "output_type": "stream",
          "text": [
            "<string>:6: VisibleDeprecationWarning: Creating an ndarray from ragged nested sequences (which is a list-or-tuple of lists-or-tuples-or ndarrays with different lengths or shapes) is deprecated. If you meant to do this, you must specify 'dtype=object' when creating the ndarray\n",
            "/usr/local/lib/python3.7/dist-packages/tensorflow/python/keras/datasets/imdb.py:159: VisibleDeprecationWarning: Creating an ndarray from ragged nested sequences (which is a list-or-tuple of lists-or-tuples-or ndarrays with different lengths or shapes) is deprecated. If you meant to do this, you must specify 'dtype=object' when creating the ndarray\n",
            "  x_train, y_train = np.array(xs[:idx]), np.array(labels[:idx])\n",
            "/usr/local/lib/python3.7/dist-packages/tensorflow/python/keras/datasets/imdb.py:160: VisibleDeprecationWarning: Creating an ndarray from ragged nested sequences (which is a list-or-tuple of lists-or-tuples-or ndarrays with different lengths or shapes) is deprecated. If you meant to do this, you must specify 'dtype=object' when creating the ndarray\n",
            "  x_test, y_test = np.array(xs[idx:]), np.array(labels[idx:])\n"
          ],
          "name": "stderr"
        }
      ]
    },
    {
      "cell_type": "code",
      "metadata": {
        "colab": {
          "base_uri": "https://localhost:8080/",
          "height": 386
        },
        "id": "KdNAI48D0X8Y",
        "outputId": "3dc8aca6-2495-490c-8c49-34b75f4c73ff"
      },
      "source": [
        "test_seq = pad_sequences(test_input,maxlen=100)\n",
        "rnn_model = keras.models.load_model('best-gru-model.h5')\n",
        "rnn_model.evaluate(test_seq,test_target)"
      ],
      "execution_count": null,
      "outputs": [
        {
          "output_type": "error",
          "ename": "OSError",
          "evalue": "ignored",
          "traceback": [
            "\u001b[0;31m---------------------------------------------------------------------------\u001b[0m",
            "\u001b[0;31mOSError\u001b[0m                                   Traceback (most recent call last)",
            "\u001b[0;32m<ipython-input-5-8c594cad80ec>\u001b[0m in \u001b[0;36m<module>\u001b[0;34m()\u001b[0m\n\u001b[1;32m      1\u001b[0m \u001b[0mtest_seq\u001b[0m \u001b[0;34m=\u001b[0m \u001b[0mpad_sequences\u001b[0m\u001b[0;34m(\u001b[0m\u001b[0mtest_input\u001b[0m\u001b[0;34m,\u001b[0m\u001b[0mmaxlen\u001b[0m\u001b[0;34m=\u001b[0m\u001b[0;36m100\u001b[0m\u001b[0;34m)\u001b[0m\u001b[0;34m\u001b[0m\u001b[0;34m\u001b[0m\u001b[0m\n\u001b[0;32m----> 2\u001b[0;31m \u001b[0mrnn_model\u001b[0m \u001b[0;34m=\u001b[0m \u001b[0mkeras\u001b[0m\u001b[0;34m.\u001b[0m\u001b[0mmodels\u001b[0m\u001b[0;34m.\u001b[0m\u001b[0mload_model\u001b[0m\u001b[0;34m(\u001b[0m\u001b[0;34m'best-gru-model.h5'\u001b[0m\u001b[0;34m)\u001b[0m\u001b[0;34m\u001b[0m\u001b[0;34m\u001b[0m\u001b[0m\n\u001b[0m\u001b[1;32m      3\u001b[0m \u001b[0mrnn_model\u001b[0m\u001b[0;34m.\u001b[0m\u001b[0mevaluate\u001b[0m\u001b[0;34m(\u001b[0m\u001b[0mtest_seq\u001b[0m\u001b[0;34m,\u001b[0m\u001b[0mtest_target\u001b[0m\u001b[0;34m)\u001b[0m\u001b[0;34m\u001b[0m\u001b[0;34m\u001b[0m\u001b[0m\n",
            "\u001b[0;32m/usr/local/lib/python3.7/dist-packages/tensorflow/python/keras/saving/save.py\u001b[0m in \u001b[0;36mload_model\u001b[0;34m(filepath, custom_objects, compile, options)\u001b[0m\n\u001b[1;32m    209\u001b[0m       \u001b[0mfilepath\u001b[0m \u001b[0;34m=\u001b[0m \u001b[0mpath_to_string\u001b[0m\u001b[0;34m(\u001b[0m\u001b[0mfilepath\u001b[0m\u001b[0;34m)\u001b[0m\u001b[0;34m\u001b[0m\u001b[0;34m\u001b[0m\u001b[0m\n\u001b[1;32m    210\u001b[0m       \u001b[0;32mif\u001b[0m \u001b[0misinstance\u001b[0m\u001b[0;34m(\u001b[0m\u001b[0mfilepath\u001b[0m\u001b[0;34m,\u001b[0m \u001b[0msix\u001b[0m\u001b[0;34m.\u001b[0m\u001b[0mstring_types\u001b[0m\u001b[0;34m)\u001b[0m\u001b[0;34m:\u001b[0m\u001b[0;34m\u001b[0m\u001b[0;34m\u001b[0m\u001b[0m\n\u001b[0;32m--> 211\u001b[0;31m         \u001b[0mloader_impl\u001b[0m\u001b[0;34m.\u001b[0m\u001b[0mparse_saved_model\u001b[0m\u001b[0;34m(\u001b[0m\u001b[0mfilepath\u001b[0m\u001b[0;34m)\u001b[0m\u001b[0;34m\u001b[0m\u001b[0;34m\u001b[0m\u001b[0m\n\u001b[0m\u001b[1;32m    212\u001b[0m         \u001b[0;32mreturn\u001b[0m \u001b[0msaved_model_load\u001b[0m\u001b[0;34m.\u001b[0m\u001b[0mload\u001b[0m\u001b[0;34m(\u001b[0m\u001b[0mfilepath\u001b[0m\u001b[0;34m,\u001b[0m \u001b[0mcompile\u001b[0m\u001b[0;34m,\u001b[0m \u001b[0moptions\u001b[0m\u001b[0;34m)\u001b[0m\u001b[0;34m\u001b[0m\u001b[0;34m\u001b[0m\u001b[0m\n\u001b[1;32m    213\u001b[0m \u001b[0;34m\u001b[0m\u001b[0m\n",
            "\u001b[0;32m/usr/local/lib/python3.7/dist-packages/tensorflow/python/saved_model/loader_impl.py\u001b[0m in \u001b[0;36mparse_saved_model\u001b[0;34m(export_dir)\u001b[0m\n\u001b[1;32m    112\u001b[0m                   (export_dir,\n\u001b[1;32m    113\u001b[0m                    \u001b[0mconstants\u001b[0m\u001b[0;34m.\u001b[0m\u001b[0mSAVED_MODEL_FILENAME_PBTXT\u001b[0m\u001b[0;34m,\u001b[0m\u001b[0;34m\u001b[0m\u001b[0;34m\u001b[0m\u001b[0m\n\u001b[0;32m--> 114\u001b[0;31m                    constants.SAVED_MODEL_FILENAME_PB))\n\u001b[0m\u001b[1;32m    115\u001b[0m \u001b[0;34m\u001b[0m\u001b[0m\n\u001b[1;32m    116\u001b[0m \u001b[0;34m\u001b[0m\u001b[0m\n",
            "\u001b[0;31mOSError\u001b[0m: SavedModel file does not exist at: best-gru-model.h5/{saved_model.pbtxt|saved_model.pb}"
          ]
        }
      ]
    },
    {
      "cell_type": "code",
      "metadata": {
        "id": "5dHAZLayJlT3"
      },
      "source": [
        "# import set\n",
        "import matplotlib.pyplot as plt\n",
        "from tensorflow.keras.preprocessing.sequence import pad_sequences\n",
        "from tensorflow import keras\n",
        "from tensorflow.keras.datasets import imdb\n",
        "from sklearn.model_selection import train_test_split\n",
        "import pandas as pd\n",
        "import numpy as np\n",
        "import seaborn as sns\n",
        "from sklearn.preprocessing import MinMaxScaler"
      ],
      "execution_count": 5,
      "outputs": []
    },
    {
      "cell_type": "code",
      "metadata": {
        "id": "PCl-V3u62cCK"
      },
      "source": [
        "data = pd.read_csv('A104040.csv')"
      ],
      "execution_count": 68,
      "outputs": []
    },
    {
      "cell_type": "code",
      "metadata": {
        "colab": {
          "base_uri": "https://localhost:8080/",
          "height": 302
        },
        "id": "fTvTxMos7Gjx",
        "outputId": "32f2c170-29b7-4db6-88e8-d9f9297c1f98"
      },
      "source": [
        "data.describe()"
      ],
      "execution_count": 69,
      "outputs": [
        {
          "output_type": "execute_result",
          "data": {
            "text/html": [
              "<div>\n",
              "<style scoped>\n",
              "    .dataframe tbody tr th:only-of-type {\n",
              "        vertical-align: middle;\n",
              "    }\n",
              "\n",
              "    .dataframe tbody tr th {\n",
              "        vertical-align: top;\n",
              "    }\n",
              "\n",
              "    .dataframe thead th {\n",
              "        text-align: right;\n",
              "    }\n",
              "</style>\n",
              "<table border=\"1\" class=\"dataframe\">\n",
              "  <thead>\n",
              "    <tr style=\"text-align: right;\">\n",
              "      <th></th>\n",
              "      <th>day</th>\n",
              "      <th>cur_pr</th>\n",
              "      <th>high_pr</th>\n",
              "      <th>low_pr</th>\n",
              "      <th>clo_pr</th>\n",
              "      <th>pr_diff</th>\n",
              "      <th>acc_vol</th>\n",
              "      <th>for_stor</th>\n",
              "      <th>for_stor_diff</th>\n",
              "      <th>for</th>\n",
              "      <th>com_buy_vol</th>\n",
              "      <th>oot_cur_pr</th>\n",
              "      <th>oot_high_pr</th>\n",
              "      <th>oot_low_pr</th>\n",
              "      <th>oot_clo_pr</th>\n",
              "      <th>oot_pr_diff</th>\n",
              "      <th>oot_vol</th>\n",
              "    </tr>\n",
              "  </thead>\n",
              "  <tbody>\n",
              "    <tr>\n",
              "      <th>count</th>\n",
              "      <td>3.007000e+03</td>\n",
              "      <td>3007.000000</td>\n",
              "      <td>3007.000000</td>\n",
              "      <td>3007.000000</td>\n",
              "      <td>3007.000000</td>\n",
              "      <td>3007.000000</td>\n",
              "      <td>3.007000e+03</td>\n",
              "      <td>3.007000e+03</td>\n",
              "      <td>3007.000000</td>\n",
              "      <td>3007.000000</td>\n",
              "      <td>3007.000000</td>\n",
              "      <td>3007.000000</td>\n",
              "      <td>3007.000000</td>\n",
              "      <td>3007.000000</td>\n",
              "      <td>3007.000000</td>\n",
              "      <td>3007.000000</td>\n",
              "      <td>3.007000e+03</td>\n",
              "    </tr>\n",
              "    <tr>\n",
              "      <th>mean</th>\n",
              "      <td>2.014687e+07</td>\n",
              "      <td>3957.226139</td>\n",
              "      <td>4073.398404</td>\n",
              "      <td>3851.909544</td>\n",
              "      <td>3948.313602</td>\n",
              "      <td>102.498836</td>\n",
              "      <td>1.467981e+06</td>\n",
              "      <td>1.835720e+05</td>\n",
              "      <td>-29.293981</td>\n",
              "      <td>0.901603</td>\n",
              "      <td>-352.798803</td>\n",
              "      <td>3951.228799</td>\n",
              "      <td>3962.481211</td>\n",
              "      <td>3941.506817</td>\n",
              "      <td>3950.806452</td>\n",
              "      <td>2.492850</td>\n",
              "      <td>2.163344e+04</td>\n",
              "    </tr>\n",
              "    <tr>\n",
              "      <th>std</th>\n",
              "      <td>3.524110e+04</td>\n",
              "      <td>3274.623676</td>\n",
              "      <td>3416.928864</td>\n",
              "      <td>3181.359799</td>\n",
              "      <td>3284.109026</td>\n",
              "      <td>204.070037</td>\n",
              "      <td>6.357972e+06</td>\n",
              "      <td>2.753655e+05</td>\n",
              "      <td>64209.664252</td>\n",
              "      <td>0.981706</td>\n",
              "      <td>18641.130733</td>\n",
              "      <td>3284.048768</td>\n",
              "      <td>3300.170083</td>\n",
              "      <td>3263.643364</td>\n",
              "      <td>3278.505529</td>\n",
              "      <td>79.057408</td>\n",
              "      <td>1.530394e+05</td>\n",
              "    </tr>\n",
              "    <tr>\n",
              "      <th>min</th>\n",
              "      <td>2.009012e+07</td>\n",
              "      <td>593.000000</td>\n",
              "      <td>626.000000</td>\n",
              "      <td>577.000000</td>\n",
              "      <td>586.000000</td>\n",
              "      <td>0.000000</td>\n",
              "      <td>0.000000e+00</td>\n",
              "      <td>0.000000e+00</td>\n",
              "      <td>-620080.000000</td>\n",
              "      <td>0.000000</td>\n",
              "      <td>-432152.000000</td>\n",
              "      <td>586.000000</td>\n",
              "      <td>586.000000</td>\n",
              "      <td>586.000000</td>\n",
              "      <td>586.000000</td>\n",
              "      <td>-1000.000000</td>\n",
              "      <td>0.000000e+00</td>\n",
              "    </tr>\n",
              "    <tr>\n",
              "      <th>25%</th>\n",
              "      <td>2.012012e+07</td>\n",
              "      <td>2095.000000</td>\n",
              "      <td>2167.500000</td>\n",
              "      <td>2035.000000</td>\n",
              "      <td>2092.500000</td>\n",
              "      <td>15.000000</td>\n",
              "      <td>1.391400e+04</td>\n",
              "      <td>1.373000e+03</td>\n",
              "      <td>-1229.000000</td>\n",
              "      <td>0.020000</td>\n",
              "      <td>0.000000</td>\n",
              "      <td>2095.000000</td>\n",
              "      <td>2102.500000</td>\n",
              "      <td>2080.000000</td>\n",
              "      <td>2090.000000</td>\n",
              "      <td>0.000000</td>\n",
              "      <td>0.000000e+00</td>\n",
              "    </tr>\n",
              "    <tr>\n",
              "      <th>50%</th>\n",
              "      <td>2.015021e+07</td>\n",
              "      <td>3370.000000</td>\n",
              "      <td>3445.000000</td>\n",
              "      <td>3260.000000</td>\n",
              "      <td>3340.000000</td>\n",
              "      <td>45.000000</td>\n",
              "      <td>7.728700e+04</td>\n",
              "      <td>5.121000e+04</td>\n",
              "      <td>0.000000</td>\n",
              "      <td>0.600000</td>\n",
              "      <td>0.000000</td>\n",
              "      <td>3340.000000</td>\n",
              "      <td>3355.000000</td>\n",
              "      <td>3340.000000</td>\n",
              "      <td>3350.000000</td>\n",
              "      <td>0.000000</td>\n",
              "      <td>2.600000e+01</td>\n",
              "    </tr>\n",
              "    <tr>\n",
              "      <th>75%</th>\n",
              "      <td>2.018030e+07</td>\n",
              "      <td>4555.000000</td>\n",
              "      <td>4647.500000</td>\n",
              "      <td>4455.000000</td>\n",
              "      <td>4530.000000</td>\n",
              "      <td>100.000000</td>\n",
              "      <td>6.176865e+05</td>\n",
              "      <td>2.460925e+05</td>\n",
              "      <td>1612.000000</td>\n",
              "      <td>1.435000</td>\n",
              "      <td>0.000000</td>\n",
              "      <td>4535.000000</td>\n",
              "      <td>4550.000000</td>\n",
              "      <td>4530.000000</td>\n",
              "      <td>4550.000000</td>\n",
              "      <td>0.000000</td>\n",
              "      <td>3.665500e+03</td>\n",
              "    </tr>\n",
              "    <tr>\n",
              "      <th>max</th>\n",
              "      <td>2.021032e+07</td>\n",
              "      <td>25500.000000</td>\n",
              "      <td>27500.000000</td>\n",
              "      <td>25250.000000</td>\n",
              "      <td>25800.000000</td>\n",
              "      <td>3750.000000</td>\n",
              "      <td>1.055487e+08</td>\n",
              "      <td>1.261060e+06</td>\n",
              "      <td>520377.000000</td>\n",
              "      <td>4.090000</td>\n",
              "      <td>309965.000000</td>\n",
              "      <td>25800.000000</td>\n",
              "      <td>25900.000000</td>\n",
              "      <td>25500.000000</td>\n",
              "      <td>25500.000000</td>\n",
              "      <td>2150.000000</td>\n",
              "      <td>4.396095e+06</td>\n",
              "    </tr>\n",
              "  </tbody>\n",
              "</table>\n",
              "</div>"
            ],
            "text/plain": [
              "                day        cur_pr  ...  oot_pr_diff       oot_vol\n",
              "count  3.007000e+03   3007.000000  ...  3007.000000  3.007000e+03\n",
              "mean   2.014687e+07   3957.226139  ...     2.492850  2.163344e+04\n",
              "std    3.524110e+04   3274.623676  ...    79.057408  1.530394e+05\n",
              "min    2.009012e+07    593.000000  ... -1000.000000  0.000000e+00\n",
              "25%    2.012012e+07   2095.000000  ...     0.000000  0.000000e+00\n",
              "50%    2.015021e+07   3370.000000  ...     0.000000  2.600000e+01\n",
              "75%    2.018030e+07   4555.000000  ...     0.000000  3.665500e+03\n",
              "max    2.021032e+07  25500.000000  ...  2150.000000  4.396095e+06\n",
              "\n",
              "[8 rows x 17 columns]"
            ]
          },
          "metadata": {
            "tags": []
          },
          "execution_count": 69
        }
      ]
    },
    {
      "cell_type": "code",
      "metadata": {
        "id": "ctQDjr2L7HSj"
      },
      "source": [
        "data['day']=pd.to_datetime(data['day'],format='%Y%m%d')\n",
        "#datetime으로 변환하기.\n",
        "data['year']=data['day'].dt.year\n",
        "data['month']=data['day'].dt.month\n",
        "data['date']=data['day'].dt.day"
      ],
      "execution_count": 70,
      "outputs": []
    },
    {
      "cell_type": "code",
      "metadata": {
        "colab": {
          "base_uri": "https://localhost:8080/",
          "height": 569
        },
        "id": "TosMNjco8DEy",
        "outputId": "528f2bae-3853-44a8-d3a8-858e82459d82"
      },
      "source": [
        "import seaborn as sns\n",
        "plt.figure(figsize=(16,9))\n",
        "sns.lineplot(y=data['clo_pr'],x=data['day'])\n",
        "plt.xlabel('time')\n",
        "plt.ylabel('price')"
      ],
      "execution_count": 71,
      "outputs": [
        {
          "output_type": "execute_result",
          "data": {
            "text/plain": [
              "Text(0, 0.5, 'price')"
            ]
          },
          "metadata": {
            "tags": []
          },
          "execution_count": 71
        },
        {
          "output_type": "display_data",
          "data": {
            "image/png": "[encoded data removed]",
            "text/plain": [
              "<Figure size 1152x648 with 1 Axes>"
            ]
          },
          "metadata": {
            "tags": [],
            "needs_background": "light"
          }
        }
      ]
    },
    {
      "cell_type": "markdown",
      "metadata": {
        "id": "duKF09gsXL79"
      },
      "source": [
        ""
      ]
    },
    {
      "cell_type": "code",
      "metadata": {
        "id": "v_JpfYaI9CZu"
      },
      "source": [
        "\n",
        "scaler = MinMaxScaler()\n",
        "scale_cols =['cur_pr',\t'high_pr',\t'low_pr',\t'clo_pr',\t'pr_diff',\t'acc_vol']"
      ],
      "execution_count": 72,
      "outputs": []
    },
    {
      "cell_type": "code",
      "metadata": {
        "id": "uAUblCZJSZpA",
        "colab": {
          "base_uri": "https://localhost:8080/"
        },
        "outputId": "9b8f09ee-ff8d-4529-c74f-7de94ae66e88"
      },
      "source": [
        "data_scaled = scaler.fit_transform(data[scale_cols])\n",
        "data_scaled"
      ],
      "execution_count": 73,
      "outputs": [
        {
          "output_type": "execute_result",
          "data": {
            "text/plain": [
              "array([[0.08459469, 0.0846171 , 0.08280306, 0.08661855, 0.012     ,\n",
              "        0.0986444 ],\n",
              "       [0.08318946, 0.07940761, 0.08462692, 0.08483382, 0.01866667,\n",
              "        0.02993105],\n",
              "       [0.0841932 , 0.07791918, 0.08401897, 0.08205759, 0.012     ,\n",
              "        0.01271561],\n",
              "       ...,\n",
              "       [0.13076645, 0.13671206, 0.12981802, 0.12925359, 0.028     ,\n",
              "        0.01043868],\n",
              "       [0.14562171, 0.13429337, 0.12698091, 0.12508924, 0.12      ,\n",
              "        0.00886492],\n",
              "       [0.15666279, 0.16313165, 0.13366838, 0.14293646, 0.08133333,\n",
              "        0.03121152]])"
            ]
          },
          "metadata": {
            "tags": []
          },
          "execution_count": 73
        }
      ]
    },
    {
      "cell_type": "code",
      "metadata": {
        "id": "oyZ7Q80MS2bt"
      },
      "source": [
        "data_scaled=pd.DataFrame(data_scaled)\n"
      ],
      "execution_count": 74,
      "outputs": []
    },
    {
      "cell_type": "code",
      "metadata": {
        "id": "m1XpluqzTIU_"
      },
      "source": [
        "data_scaled.columns = scale_cols"
      ],
      "execution_count": 75,
      "outputs": []
    },
    {
      "cell_type": "code",
      "metadata": {
        "colab": {
          "base_uri": "https://localhost:8080/"
        },
        "id": "4oMUbgE6UlZK",
        "outputId": "74c3e7c8-5d07-4c7f-8afd-5ed08dbd7cd9"
      },
      "source": [
        "print(data_scaled)"
      ],
      "execution_count": 76,
      "outputs": [
        {
          "output_type": "stream",
          "text": [
            "        cur_pr   high_pr    low_pr    clo_pr   pr_diff   acc_vol\n",
            "0     0.084595  0.084617  0.082803  0.086619  0.012000  0.098644\n",
            "1     0.083189  0.079408  0.084627  0.084834  0.018667  0.029931\n",
            "2     0.084193  0.077919  0.084019  0.082058  0.012000  0.012716\n",
            "3     0.082386  0.077919  0.083614  0.083842  0.010667  0.019817\n",
            "4     0.085598  0.081454  0.086045  0.085429  0.004000  0.051095\n",
            "...        ...       ...       ...       ...       ...       ...\n",
            "3002  0.125547  0.120339  0.122523  0.119537  0.021333  0.001845\n",
            "3003  0.124744  0.119967  0.124549  0.122710  0.044000  0.002958\n",
            "3004  0.130766  0.136712  0.129818  0.129254  0.028000  0.010439\n",
            "3005  0.145622  0.134293  0.126981  0.125089  0.120000  0.008865\n",
            "3006  0.156663  0.163132  0.133668  0.142936  0.081333  0.031212\n",
            "\n",
            "[3007 rows x 6 columns]\n"
          ],
          "name": "stdout"
        }
      ]
    },
    {
      "cell_type": "code",
      "metadata": {
        "id": "YHnYbmu_Un5Y"
      },
      "source": [
        "def make_dataset(data, label, window_size=20):\n",
        "    feature_list = []\n",
        "    label_list = []\n",
        "    for i in range(len(data) - window_size):\n",
        "        feature_list.append(np.array(data.iloc[i:i+window_size]))\n",
        "        label_list.append(np.array(label.iloc[i+window_size]))\n",
        "    return np.array(feature_list), np.array(label_list)"
      ],
      "execution_count": 77,
      "outputs": []
    },
    {
      "cell_type": "code",
      "metadata": {
        "id": "hi7cdIfjXk1U"
      },
      "source": [
        "window_size=20\n",
        "TEST_SIZE = 200"
      ],
      "execution_count": 78,
      "outputs": []
    },
    {
      "cell_type": "code",
      "metadata": {
        "id": "dq_tZOCNLJLW"
      },
      "source": [
        "# 트레인을 200일 전까지 테스트를 마지막 200개로 나눴다.\n",
        "train = data_scaled[:-TEST_SIZE]\n",
        "test  = data_scaled[-TEST_SIZE:]"
      ],
      "execution_count": 79,
      "outputs": []
    },
    {
      "cell_type": "code",
      "metadata": {
        "colab": {
          "base_uri": "https://localhost:8080/",
          "height": 1000
        },
        "id": "RDwiBbvuLwMt",
        "outputId": "11f18c58-e8a4-48c8-b63d-b60d462774b9"
      },
      "source": [
        "train.head(50)"
      ],
      "execution_count": 80,
      "outputs": [
        {
          "output_type": "execute_result",
          "data": {
            "text/html": [
              "<div>\n",
              "<style scoped>\n",
              "    .dataframe tbody tr th:only-of-type {\n",
              "        vertical-align: middle;\n",
              "    }\n",
              "\n",
              "    .dataframe tbody tr th {\n",
              "        vertical-align: top;\n",
              "    }\n",
              "\n",
              "    .dataframe thead th {\n",
              "        text-align: right;\n",
              "    }\n",
              "</style>\n",
              "<table border=\"1\" class=\"dataframe\">\n",
              "  <thead>\n",
              "    <tr style=\"text-align: right;\">\n",
              "      <th></th>\n",
              "      <th>cur_pr</th>\n",
              "      <th>high_pr</th>\n",
              "      <th>low_pr</th>\n",
              "      <th>clo_pr</th>\n",
              "      <th>pr_diff</th>\n",
              "      <th>acc_vol</th>\n",
              "    </tr>\n",
              "  </thead>\n",
              "  <tbody>\n",
              "    <tr>\n",
              "      <th>0</th>\n",
              "      <td>0.084595</td>\n",
              "      <td>0.084617</td>\n",
              "      <td>0.082803</td>\n",
              "      <td>0.086619</td>\n",
              "      <td>0.012000</td>\n",
              "      <td>0.098644</td>\n",
              "    </tr>\n",
              "    <tr>\n",
              "      <th>1</th>\n",
              "      <td>0.083189</td>\n",
              "      <td>0.079408</td>\n",
              "      <td>0.084627</td>\n",
              "      <td>0.084834</td>\n",
              "      <td>0.018667</td>\n",
              "      <td>0.029931</td>\n",
              "    </tr>\n",
              "    <tr>\n",
              "      <th>2</th>\n",
              "      <td>0.084193</td>\n",
              "      <td>0.077919</td>\n",
              "      <td>0.084019</td>\n",
              "      <td>0.082058</td>\n",
              "      <td>0.012000</td>\n",
              "      <td>0.012716</td>\n",
              "    </tr>\n",
              "    <tr>\n",
              "      <th>3</th>\n",
              "      <td>0.082386</td>\n",
              "      <td>0.077919</td>\n",
              "      <td>0.083614</td>\n",
              "      <td>0.083842</td>\n",
              "      <td>0.010667</td>\n",
              "      <td>0.019817</td>\n",
              "    </tr>\n",
              "    <tr>\n",
              "      <th>4</th>\n",
              "      <td>0.085598</td>\n",
              "      <td>0.081454</td>\n",
              "      <td>0.086045</td>\n",
              "      <td>0.085429</td>\n",
              "      <td>0.004000</td>\n",
              "      <td>0.051095</td>\n",
              "    </tr>\n",
              "    <tr>\n",
              "      <th>5</th>\n",
              "      <td>0.091019</td>\n",
              "      <td>0.085733</td>\n",
              "      <td>0.087059</td>\n",
              "      <td>0.084834</td>\n",
              "      <td>0.044000</td>\n",
              "      <td>0.077345</td>\n",
              "    </tr>\n",
              "    <tr>\n",
              "      <th>6</th>\n",
              "      <td>0.090416</td>\n",
              "      <td>0.092431</td>\n",
              "      <td>0.090301</td>\n",
              "      <td>0.091378</td>\n",
              "      <td>0.037333</td>\n",
              "      <td>0.429002</td>\n",
              "    </tr>\n",
              "    <tr>\n",
              "      <th>7</th>\n",
              "      <td>0.086201</td>\n",
              "      <td>0.081640</td>\n",
              "      <td>0.085438</td>\n",
              "      <td>0.085825</td>\n",
              "      <td>0.005333</td>\n",
              "      <td>0.108979</td>\n",
              "    </tr>\n",
              "    <tr>\n",
              "      <th>8</th>\n",
              "      <td>0.076565</td>\n",
              "      <td>0.086292</td>\n",
              "      <td>0.077939</td>\n",
              "      <td>0.086619</td>\n",
              "      <td>0.089333</td>\n",
              "      <td>0.649327</td>\n",
              "    </tr>\n",
              "    <tr>\n",
              "      <th>9</th>\n",
              "      <td>0.073353</td>\n",
              "      <td>0.069733</td>\n",
              "      <td>0.074697</td>\n",
              "      <td>0.073332</td>\n",
              "      <td>0.001333</td>\n",
              "      <td>0.008439</td>\n",
              "    </tr>\n",
              "    <tr>\n",
              "      <th>10</th>\n",
              "      <td>0.078974</td>\n",
              "      <td>0.074942</td>\n",
              "      <td>0.074900</td>\n",
              "      <td>0.073134</td>\n",
              "      <td>0.025333</td>\n",
              "      <td>0.017078</td>\n",
              "    </tr>\n",
              "    <tr>\n",
              "      <th>11</th>\n",
              "      <td>0.081985</td>\n",
              "      <td>0.074756</td>\n",
              "      <td>0.075913</td>\n",
              "      <td>0.076902</td>\n",
              "      <td>0.030667</td>\n",
              "      <td>0.017563</td>\n",
              "    </tr>\n",
              "    <tr>\n",
              "      <th>12</th>\n",
              "      <td>0.077569</td>\n",
              "      <td>0.079222</td>\n",
              "      <td>0.078953</td>\n",
              "      <td>0.081463</td>\n",
              "      <td>0.033333</td>\n",
              "      <td>0.069338</td>\n",
              "    </tr>\n",
              "    <tr>\n",
              "      <th>13</th>\n",
              "      <td>0.080379</td>\n",
              "      <td>0.074570</td>\n",
              "      <td>0.078547</td>\n",
              "      <td>0.076505</td>\n",
              "      <td>0.034667</td>\n",
              "      <td>0.017140</td>\n",
              "    </tr>\n",
              "    <tr>\n",
              "      <th>14</th>\n",
              "      <td>0.079375</td>\n",
              "      <td>0.077175</td>\n",
              "      <td>0.077129</td>\n",
              "      <td>0.081661</td>\n",
              "      <td>0.018667</td>\n",
              "      <td>0.037112</td>\n",
              "    </tr>\n",
              "    <tr>\n",
              "      <th>15</th>\n",
              "      <td>0.076565</td>\n",
              "      <td>0.078477</td>\n",
              "      <td>0.077737</td>\n",
              "      <td>0.078885</td>\n",
              "      <td>0.033333</td>\n",
              "      <td>0.112758</td>\n",
              "    </tr>\n",
              "    <tr>\n",
              "      <th>16</th>\n",
              "      <td>0.068535</td>\n",
              "      <td>0.074942</td>\n",
              "      <td>0.069023</td>\n",
              "      <td>0.073927</td>\n",
              "      <td>0.048000</td>\n",
              "      <td>0.086091</td>\n",
              "    </tr>\n",
              "    <tr>\n",
              "      <th>17</th>\n",
              "      <td>0.067130</td>\n",
              "      <td>0.062477</td>\n",
              "      <td>0.066591</td>\n",
              "      <td>0.066788</td>\n",
              "      <td>0.024000</td>\n",
              "      <td>0.010604</td>\n",
              "    </tr>\n",
              "    <tr>\n",
              "      <th>18</th>\n",
              "      <td>0.072148</td>\n",
              "      <td>0.066756</td>\n",
              "      <td>0.070644</td>\n",
              "      <td>0.070358</td>\n",
              "      <td>0.006667</td>\n",
              "      <td>0.010426</td>\n",
              "    </tr>\n",
              "    <tr>\n",
              "      <th>19</th>\n",
              "      <td>0.079175</td>\n",
              "      <td>0.073454</td>\n",
              "      <td>0.071252</td>\n",
              "      <td>0.069366</td>\n",
              "      <td>0.060000</td>\n",
              "      <td>0.021819</td>\n",
              "    </tr>\n",
              "    <tr>\n",
              "      <th>20</th>\n",
              "      <td>0.082386</td>\n",
              "      <td>0.082571</td>\n",
              "      <td>0.080371</td>\n",
              "      <td>0.078290</td>\n",
              "      <td>0.025333</td>\n",
              "      <td>0.069479</td>\n",
              "    </tr>\n",
              "    <tr>\n",
              "      <th>21</th>\n",
              "      <td>0.077368</td>\n",
              "      <td>0.086478</td>\n",
              "      <td>0.078547</td>\n",
              "      <td>0.082058</td>\n",
              "      <td>0.037333</td>\n",
              "      <td>0.174573</td>\n",
              "    </tr>\n",
              "    <tr>\n",
              "      <th>22</th>\n",
              "      <td>0.080981</td>\n",
              "      <td>0.073826</td>\n",
              "      <td>0.077331</td>\n",
              "      <td>0.076505</td>\n",
              "      <td>0.025333</td>\n",
              "      <td>0.010466</td>\n",
              "    </tr>\n",
              "    <tr>\n",
              "      <th>23</th>\n",
              "      <td>0.080178</td>\n",
              "      <td>0.076059</td>\n",
              "      <td>0.079763</td>\n",
              "      <td>0.080273</td>\n",
              "      <td>0.006667</td>\n",
              "      <td>0.023187</td>\n",
              "    </tr>\n",
              "    <tr>\n",
              "      <th>24</th>\n",
              "      <td>0.078773</td>\n",
              "      <td>0.074756</td>\n",
              "      <td>0.078142</td>\n",
              "      <td>0.079281</td>\n",
              "      <td>0.009333</td>\n",
              "      <td>0.021185</td>\n",
              "    </tr>\n",
              "    <tr>\n",
              "      <th>25</th>\n",
              "      <td>0.077167</td>\n",
              "      <td>0.075128</td>\n",
              "      <td>0.076724</td>\n",
              "      <td>0.077893</td>\n",
              "      <td>0.005333</td>\n",
              "      <td>0.022782</td>\n",
              "    </tr>\n",
              "    <tr>\n",
              "      <th>26</th>\n",
              "      <td>0.072951</td>\n",
              "      <td>0.076431</td>\n",
              "      <td>0.071860</td>\n",
              "      <td>0.077100</td>\n",
              "      <td>0.038667</td>\n",
              "      <td>0.070668</td>\n",
              "    </tr>\n",
              "    <tr>\n",
              "      <th>27</th>\n",
              "      <td>0.073152</td>\n",
              "      <td>0.066756</td>\n",
              "      <td>0.071657</td>\n",
              "      <td>0.071349</td>\n",
              "      <td>0.001333</td>\n",
              "      <td>0.005507</td>\n",
              "    </tr>\n",
              "    <tr>\n",
              "      <th>28</th>\n",
              "      <td>0.072148</td>\n",
              "      <td>0.072710</td>\n",
              "      <td>0.071049</td>\n",
              "      <td>0.071548</td>\n",
              "      <td>0.000000</td>\n",
              "      <td>0.019407</td>\n",
              "    </tr>\n",
              "    <tr>\n",
              "      <th>29</th>\n",
              "      <td>0.073152</td>\n",
              "      <td>0.070849</td>\n",
              "      <td>0.072873</td>\n",
              "      <td>0.071548</td>\n",
              "      <td>0.017333</td>\n",
              "      <td>0.014715</td>\n",
              "    </tr>\n",
              "    <tr>\n",
              "      <th>30</th>\n",
              "      <td>0.077368</td>\n",
              "      <td>0.071035</td>\n",
              "      <td>0.074089</td>\n",
              "      <td>0.074125</td>\n",
              "      <td>0.006667</td>\n",
              "      <td>0.011724</td>\n",
              "    </tr>\n",
              "    <tr>\n",
              "      <th>31</th>\n",
              "      <td>0.077368</td>\n",
              "      <td>0.071593</td>\n",
              "      <td>0.075305</td>\n",
              "      <td>0.075117</td>\n",
              "      <td>0.010667</td>\n",
              "      <td>0.008963</td>\n",
              "    </tr>\n",
              "    <tr>\n",
              "      <th>32</th>\n",
              "      <td>0.074156</td>\n",
              "      <td>0.073268</td>\n",
              "      <td>0.075508</td>\n",
              "      <td>0.076703</td>\n",
              "      <td>0.025333</td>\n",
              "      <td>0.025793</td>\n",
              "    </tr>\n",
              "    <tr>\n",
              "      <th>33</th>\n",
              "      <td>0.071948</td>\n",
              "      <td>0.068430</td>\n",
              "      <td>0.072671</td>\n",
              "      <td>0.072936</td>\n",
              "      <td>0.012000</td>\n",
              "      <td>0.012238</td>\n",
              "    </tr>\n",
              "    <tr>\n",
              "      <th>34</th>\n",
              "      <td>0.068133</td>\n",
              "      <td>0.066384</td>\n",
              "      <td>0.067402</td>\n",
              "      <td>0.071151</td>\n",
              "      <td>0.012000</td>\n",
              "      <td>0.012745</td>\n",
              "    </tr>\n",
              "    <tr>\n",
              "      <th>35</th>\n",
              "      <td>0.076163</td>\n",
              "      <td>0.070291</td>\n",
              "      <td>0.068820</td>\n",
              "      <td>0.069366</td>\n",
              "      <td>0.036000</td>\n",
              "      <td>0.017608</td>\n",
              "    </tr>\n",
              "    <tr>\n",
              "      <th>36</th>\n",
              "      <td>0.078171</td>\n",
              "      <td>0.071965</td>\n",
              "      <td>0.073886</td>\n",
              "      <td>0.074720</td>\n",
              "      <td>0.032000</td>\n",
              "      <td>0.019548</td>\n",
              "    </tr>\n",
              "    <tr>\n",
              "      <th>37</th>\n",
              "      <td>0.087606</td>\n",
              "      <td>0.080338</td>\n",
              "      <td>0.081587</td>\n",
              "      <td>0.079480</td>\n",
              "      <td>0.049333</td>\n",
              "      <td>0.023287</td>\n",
              "    </tr>\n",
              "    <tr>\n",
              "      <th>38</th>\n",
              "      <td>0.089212</td>\n",
              "      <td>0.082757</td>\n",
              "      <td>0.088680</td>\n",
              "      <td>0.086817</td>\n",
              "      <td>0.006667</td>\n",
              "      <td>0.016421</td>\n",
              "    </tr>\n",
              "    <tr>\n",
              "      <th>39</th>\n",
              "      <td>0.088610</td>\n",
              "      <td>0.086106</td>\n",
              "      <td>0.088072</td>\n",
              "      <td>0.087808</td>\n",
              "      <td>0.000000</td>\n",
              "      <td>0.052034</td>\n",
              "    </tr>\n",
              "    <tr>\n",
              "      <th>40</th>\n",
              "      <td>0.089212</td>\n",
              "      <td>0.083315</td>\n",
              "      <td>0.087667</td>\n",
              "      <td>0.087808</td>\n",
              "      <td>0.004000</td>\n",
              "      <td>0.026254</td>\n",
              "    </tr>\n",
              "    <tr>\n",
              "      <th>41</th>\n",
              "      <td>0.096037</td>\n",
              "      <td>0.087966</td>\n",
              "      <td>0.090706</td>\n",
              "      <td>0.088403</td>\n",
              "      <td>0.052000</td>\n",
              "      <td>0.043607</td>\n",
              "    </tr>\n",
              "    <tr>\n",
              "      <th>42</th>\n",
              "      <td>0.093428</td>\n",
              "      <td>0.089082</td>\n",
              "      <td>0.091720</td>\n",
              "      <td>0.096137</td>\n",
              "      <td>0.013333</td>\n",
              "      <td>0.072251</td>\n",
              "    </tr>\n",
              "    <tr>\n",
              "      <th>43</th>\n",
              "      <td>0.089613</td>\n",
              "      <td>0.096711</td>\n",
              "      <td>0.090504</td>\n",
              "      <td>0.094154</td>\n",
              "      <td>0.036000</td>\n",
              "      <td>0.286482</td>\n",
              "    </tr>\n",
              "    <tr>\n",
              "      <th>44</th>\n",
              "      <td>0.089814</td>\n",
              "      <td>0.089827</td>\n",
              "      <td>0.088072</td>\n",
              "      <td>0.088800</td>\n",
              "      <td>0.013333</td>\n",
              "      <td>0.164286</td>\n",
              "    </tr>\n",
              "    <tr>\n",
              "      <th>45</th>\n",
              "      <td>0.084795</td>\n",
              "      <td>0.080896</td>\n",
              "      <td>0.085640</td>\n",
              "      <td>0.086817</td>\n",
              "      <td>0.014667</td>\n",
              "      <td>0.030449</td>\n",
              "    </tr>\n",
              "    <tr>\n",
              "      <th>46</th>\n",
              "      <td>0.084595</td>\n",
              "      <td>0.083315</td>\n",
              "      <td>0.084424</td>\n",
              "      <td>0.084636</td>\n",
              "      <td>0.004000</td>\n",
              "      <td>0.053042</td>\n",
              "    </tr>\n",
              "    <tr>\n",
              "      <th>47</th>\n",
              "      <td>0.090617</td>\n",
              "      <td>0.083501</td>\n",
              "      <td>0.085438</td>\n",
              "      <td>0.084041</td>\n",
              "      <td>0.049333</td>\n",
              "      <td>0.059765</td>\n",
              "    </tr>\n",
              "    <tr>\n",
              "      <th>48</th>\n",
              "      <td>0.086401</td>\n",
              "      <td>0.096152</td>\n",
              "      <td>0.086248</td>\n",
              "      <td>0.091378</td>\n",
              "      <td>0.018667</td>\n",
              "      <td>0.501687</td>\n",
              "    </tr>\n",
              "    <tr>\n",
              "      <th>49</th>\n",
              "      <td>0.093829</td>\n",
              "      <td>0.087222</td>\n",
              "      <td>0.086451</td>\n",
              "      <td>0.088602</td>\n",
              "      <td>0.040000</td>\n",
              "      <td>0.099746</td>\n",
              "    </tr>\n",
              "  </tbody>\n",
              "</table>\n",
              "</div>"
            ],
            "text/plain": [
              "      cur_pr   high_pr    low_pr    clo_pr   pr_diff   acc_vol\n",
              "0   0.084595  0.084617  0.082803  0.086619  0.012000  0.098644\n",
              "1   0.083189  0.079408  0.084627  0.084834  0.018667  0.029931\n",
              "2   0.084193  0.077919  0.084019  0.082058  0.012000  0.012716\n",
              "3   0.082386  0.077919  0.083614  0.083842  0.010667  0.019817\n",
              "4   0.085598  0.081454  0.086045  0.085429  0.004000  0.051095\n",
              "5   0.091019  0.085733  0.087059  0.084834  0.044000  0.077345\n",
              "6   0.090416  0.092431  0.090301  0.091378  0.037333  0.429002\n",
              "7   0.086201  0.081640  0.085438  0.085825  0.005333  0.108979\n",
              "8   0.076565  0.086292  0.077939  0.086619  0.089333  0.649327\n",
              "9   0.073353  0.069733  0.074697  0.073332  0.001333  0.008439\n",
              "10  0.078974  0.074942  0.074900  0.073134  0.025333  0.017078\n",
              "11  0.081985  0.074756  0.075913  0.076902  0.030667  0.017563\n",
              "12  0.077569  0.079222  0.078953  0.081463  0.033333  0.069338\n",
              "13  0.080379  0.074570  0.078547  0.076505  0.034667  0.017140\n",
              "14  0.079375  0.077175  0.077129  0.081661  0.018667  0.037112\n",
              "15  0.076565  0.078477  0.077737  0.078885  0.033333  0.112758\n",
              "16  0.068535  0.074942  0.069023  0.073927  0.048000  0.086091\n",
              "17  0.067130  0.062477  0.066591  0.066788  0.024000  0.010604\n",
              "18  0.072148  0.066756  0.070644  0.070358  0.006667  0.010426\n",
              "19  0.079175  0.073454  0.071252  0.069366  0.060000  0.021819\n",
              "20  0.082386  0.082571  0.080371  0.078290  0.025333  0.069479\n",
              "21  0.077368  0.086478  0.078547  0.082058  0.037333  0.174573\n",
              "22  0.080981  0.073826  0.077331  0.076505  0.025333  0.010466\n",
              "23  0.080178  0.076059  0.079763  0.080273  0.006667  0.023187\n",
              "24  0.078773  0.074756  0.078142  0.079281  0.009333  0.021185\n",
              "25  0.077167  0.075128  0.076724  0.077893  0.005333  0.022782\n",
              "26  0.072951  0.076431  0.071860  0.077100  0.038667  0.070668\n",
              "27  0.073152  0.066756  0.071657  0.071349  0.001333  0.005507\n",
              "28  0.072148  0.072710  0.071049  0.071548  0.000000  0.019407\n",
              "29  0.073152  0.070849  0.072873  0.071548  0.017333  0.014715\n",
              "30  0.077368  0.071035  0.074089  0.074125  0.006667  0.011724\n",
              "31  0.077368  0.071593  0.075305  0.075117  0.010667  0.008963\n",
              "32  0.074156  0.073268  0.075508  0.076703  0.025333  0.025793\n",
              "33  0.071948  0.068430  0.072671  0.072936  0.012000  0.012238\n",
              "34  0.068133  0.066384  0.067402  0.071151  0.012000  0.012745\n",
              "35  0.076163  0.070291  0.068820  0.069366  0.036000  0.017608\n",
              "36  0.078171  0.071965  0.073886  0.074720  0.032000  0.019548\n",
              "37  0.087606  0.080338  0.081587  0.079480  0.049333  0.023287\n",
              "38  0.089212  0.082757  0.088680  0.086817  0.006667  0.016421\n",
              "39  0.088610  0.086106  0.088072  0.087808  0.000000  0.052034\n",
              "40  0.089212  0.083315  0.087667  0.087808  0.004000  0.026254\n",
              "41  0.096037  0.087966  0.090706  0.088403  0.052000  0.043607\n",
              "42  0.093428  0.089082  0.091720  0.096137  0.013333  0.072251\n",
              "43  0.089613  0.096711  0.090504  0.094154  0.036000  0.286482\n",
              "44  0.089814  0.089827  0.088072  0.088800  0.013333  0.164286\n",
              "45  0.084795  0.080896  0.085640  0.086817  0.014667  0.030449\n",
              "46  0.084595  0.083315  0.084424  0.084636  0.004000  0.053042\n",
              "47  0.090617  0.083501  0.085438  0.084041  0.049333  0.059765\n",
              "48  0.086401  0.096152  0.086248  0.091378  0.018667  0.501687\n",
              "49  0.093829  0.087222  0.086451  0.088602  0.040000  0.099746"
            ]
          },
          "metadata": {
            "tags": []
          },
          "execution_count": 80
        }
      ]
    },
    {
      "cell_type": "code",
      "metadata": {
        "colab": {
          "base_uri": "https://localhost:8080/",
          "height": 194
        },
        "id": "b-hrtARNYKXa",
        "outputId": "e65ff5ed-e362-4bb7-b598-070cddadc502"
      },
      "source": [
        "test.head(5)"
      ],
      "execution_count": 81,
      "outputs": [
        {
          "output_type": "execute_result",
          "data": {
            "text/html": [
              "<div>\n",
              "<style scoped>\n",
              "    .dataframe tbody tr th:only-of-type {\n",
              "        vertical-align: middle;\n",
              "    }\n",
              "\n",
              "    .dataframe tbody tr th {\n",
              "        vertical-align: top;\n",
              "    }\n",
              "\n",
              "    .dataframe thead th {\n",
              "        text-align: right;\n",
              "    }\n",
              "</style>\n",
              "<table border=\"1\" class=\"dataframe\">\n",
              "  <thead>\n",
              "    <tr style=\"text-align: right;\">\n",
              "      <th></th>\n",
              "      <th>cur_pr</th>\n",
              "      <th>high_pr</th>\n",
              "      <th>low_pr</th>\n",
              "      <th>clo_pr</th>\n",
              "      <th>pr_diff</th>\n",
              "      <th>acc_vol</th>\n",
              "    </tr>\n",
              "  </thead>\n",
              "  <tbody>\n",
              "    <tr>\n",
              "      <th>2807</th>\n",
              "      <td>0.153250</td>\n",
              "      <td>0.141363</td>\n",
              "      <td>0.150894</td>\n",
              "      <td>0.147299</td>\n",
              "      <td>0.028000</td>\n",
              "      <td>0.000161</td>\n",
              "    </tr>\n",
              "    <tr>\n",
              "      <th>2808</th>\n",
              "      <td>0.149837</td>\n",
              "      <td>0.141549</td>\n",
              "      <td>0.149475</td>\n",
              "      <td>0.151463</td>\n",
              "      <td>0.021333</td>\n",
              "      <td>0.000216</td>\n",
              "    </tr>\n",
              "    <tr>\n",
              "      <th>2809</th>\n",
              "      <td>0.149637</td>\n",
              "      <td>0.140805</td>\n",
              "      <td>0.146841</td>\n",
              "      <td>0.148291</td>\n",
              "      <td>0.025333</td>\n",
              "      <td>0.000783</td>\n",
              "    </tr>\n",
              "    <tr>\n",
              "      <th>2810</th>\n",
              "      <td>0.176737</td>\n",
              "      <td>0.173179</td>\n",
              "      <td>0.155757</td>\n",
              "      <td>0.152058</td>\n",
              "      <td>0.208000</td>\n",
              "      <td>0.005928</td>\n",
              "    </tr>\n",
              "    <tr>\n",
              "      <th>2811</th>\n",
              "      <td>0.164492</td>\n",
              "      <td>0.170202</td>\n",
              "      <td>0.163863</td>\n",
              "      <td>0.182994</td>\n",
              "      <td>0.178667</td>\n",
              "      <td>0.002554</td>\n",
              "    </tr>\n",
              "  </tbody>\n",
              "</table>\n",
              "</div>"
            ],
            "text/plain": [
              "        cur_pr   high_pr    low_pr    clo_pr   pr_diff   acc_vol\n",
              "2807  0.153250  0.141363  0.150894  0.147299  0.028000  0.000161\n",
              "2808  0.149837  0.141549  0.149475  0.151463  0.021333  0.000216\n",
              "2809  0.149637  0.140805  0.146841  0.148291  0.025333  0.000783\n",
              "2810  0.176737  0.173179  0.155757  0.152058  0.208000  0.005928\n",
              "2811  0.164492  0.170202  0.163863  0.182994  0.178667  0.002554"
            ]
          },
          "metadata": {
            "tags": []
          },
          "execution_count": 81
        }
      ]
    },
    {
      "cell_type": "code",
      "metadata": {
        "id": "dR9Sj8gRLwrY"
      },
      "source": [
        "feature_cols = \\\n",
        "['cur_pr',\t'high_pr',\t'low_pr','acc_vol']\n",
        "label_cols=['clo_pr']"
      ],
      "execution_count": 82,
      "outputs": []
    },
    {
      "cell_type": "code",
      "metadata": {
        "id": "B0Z_vb6JNAeL"
      },
      "source": [
        "train_feature = train[feature_cols]\n",
        "train_label = train[label_cols]"
      ],
      "execution_count": 83,
      "outputs": []
    },
    {
      "cell_type": "code",
      "metadata": {
        "id": "KKAwAAcONwXU"
      },
      "source": [
        "#train dataset\n",
        "\n",
        "train_feature, train_label = make_dataset(train_feature, train_label)"
      ],
      "execution_count": 84,
      "outputs": []
    },
    {
      "cell_type": "code",
      "metadata": {
        "colab": {
          "base_uri": "https://localhost:8080/"
        },
        "id": "Pr5lIJqAN8C_",
        "outputId": "e20874c6-ac2e-478b-ead2-c3fb4642105e"
      },
      "source": [
        "train_feature.shape"
      ],
      "execution_count": 85,
      "outputs": [
        {
          "output_type": "execute_result",
          "data": {
            "text/plain": [
              "(2787, 20, 4)"
            ]
          },
          "metadata": {
            "tags": []
          },
          "execution_count": 85
        }
      ]
    },
    {
      "cell_type": "code",
      "metadata": {
        "id": "GUrdhOpxOeDe"
      },
      "source": [
        "x_train,x_valid,y_train,y_valid = train_test_split(train_feature,train_label, test_size=0.2)"
      ],
      "execution_count": 86,
      "outputs": []
    },
    {
      "cell_type": "code",
      "metadata": {
        "colab": {
          "base_uri": "https://localhost:8080/"
        },
        "id": "jarZtf_rPG_x",
        "outputId": "cf780d0f-de47-40a2-caf3-308c1127c38d"
      },
      "source": [
        "x_train.shape"
      ],
      "execution_count": 87,
      "outputs": [
        {
          "output_type": "execute_result",
          "data": {
            "text/plain": [
              "(2229, 20, 4)"
            ]
          },
          "metadata": {
            "tags": []
          },
          "execution_count": 87
        }
      ]
    },
    {
      "cell_type": "code",
      "metadata": {
        "id": "NJM0H6AwPf3S"
      },
      "source": [
        "# test dataset feature/label 분리\n",
        "\n",
        "test_feature = test[feature_cols]\n",
        "test_label = test[label_cols]\n",
        "\n",
        "# train dataset 만들기\n",
        "test_feature, test_label = make_dataset(test_feature, test_label, 20)"
      ],
      "execution_count": 88,
      "outputs": []
    },
    {
      "cell_type": "markdown",
      "metadata": {
        "id": "C4lH1ZpzQRS0"
      },
      "source": [
        ""
      ]
    },
    {
      "cell_type": "code",
      "metadata": {
        "colab": {
          "base_uri": "https://localhost:8080/"
        },
        "id": "pmReeoVwQOM_",
        "outputId": "70a09e8c-5af8-477e-ec5a-6020039d6bab"
      },
      "source": [
        "test_feature.shape, test_label.shape\n"
      ],
      "execution_count": 89,
      "outputs": [
        {
          "output_type": "execute_result",
          "data": {
            "text/plain": [
              "((180, 20, 4), (180, 1))"
            ]
          },
          "metadata": {
            "tags": []
          },
          "execution_count": 89
        }
      ]
    },
    {
      "cell_type": "code",
      "metadata": {
        "id": "RJvrCuswPJdK"
      },
      "source": [
        "#Keras를 활용한 lstm 모델 생성\n",
        "from keras.models import Sequential\n",
        "from keras.layers import Dense\n",
        "from keras.callbacks import EarlyStopping, ModelCheckpoint\n",
        "from keras.layers import LSTM"
      ],
      "execution_count": 90,
      "outputs": []
    },
    {
      "cell_type": "code",
      "metadata": {
        "colab": {
          "base_uri": "https://localhost:8080/"
        },
        "id": "q6wo0o_bPfBZ",
        "outputId": "8c3c5d54-0f47-4a77-c846-1818a135a927"
      },
      "source": [
        "model = Sequential()\n",
        "model.add(LSTM(16,\n",
        "                input_shape =(train_feature.shape[1],train_feature.shape[2]),\n",
        "                activation='relu',\n",
        "                return_sequences =False))"
      ],
      "execution_count": 91,
      "outputs": [
        {
          "output_type": "stream",
          "text": [
            "WARNING:tensorflow:Layer lstm_1 will not use cuDNN kernel since it doesn't meet the cuDNN kernel criteria. It will use generic GPU kernel as fallback when running on GPU\n"
          ],
          "name": "stdout"
        }
      ]
    },
    {
      "cell_type": "code",
      "metadata": {
        "id": "4f4veY_8PVKd"
      },
      "source": [
        "model.add(Dense(1))"
      ],
      "execution_count": 92,
      "outputs": []
    },
    {
      "cell_type": "code",
      "metadata": {
        "id": "11g04WtRQ_Xx"
      },
      "source": [
        "import os\n",
        "model.compile(loss='mean_squared_error', optimizer='adam')\n",
        "early_stop = EarlyStopping(monitor='val_loss', patience=5)\n",
        "filename = os.path.join('./','tmp_checkpoint.h5')\n",
        "checkpoint = ModelCheckpoint(filename, monitor='val_loss', verbose=1,save_best_only=True,mode='auto')\n"
      ],
      "execution_count": 93,
      "outputs": []
    },
    {
      "cell_type": "code",
      "metadata": {
        "colab": {
          "base_uri": "https://localhost:8080/"
        },
        "id": "ZqK1mw9aSTAq",
        "outputId": "d34ad509-d146-4458-f499-a948475d1f34"
      },
      "source": [
        "history = model.fit(x_train,y_train,\n",
        "                    epochs= 200,\n",
        "                    batch_size = 16,\n",
        "                    validation_data=(x_valid,y_valid),\n",
        "                    callbacks=[early_stop,checkpoint])"
      ],
      "execution_count": null,
      "outputs": [
        {
          "output_type": "stream",
          "text": [
            "Epoch 1/200\n",
            "140/140 [==============================] - 5s 29ms/step - loss: 0.0059 - val_loss: 0.0012\n",
            "\n",
            "Epoch 00001: val_loss improved from inf to 0.00121, saving model to ./tmp_checkpoint.h5\n",
            "Epoch 2/200\n",
            "140/140 [==============================] - 4s 28ms/step - loss: 9.3179e-04 - val_loss: 9.6351e-04\n",
            "\n",
            "Epoch 00002: val_loss improved from 0.00121 to 0.00096, saving model to ./tmp_checkpoint.h5\n",
            "Epoch 3/200\n",
            "140/140 [==============================] - 4s 28ms/step - loss: 8.2068e-04 - val_loss: 0.0010\n",
            "\n",
            "Epoch 00003: val_loss did not improve from 0.00096\n",
            "Epoch 4/200\n",
            "140/140 [==============================] - 4s 29ms/step - loss: 0.0013 - val_loss: 8.0581e-04\n",
            "\n",
            "Epoch 00004: val_loss improved from 0.00096 to 0.00081, saving model to ./tmp_checkpoint.h5\n",
            "Epoch 5/200\n",
            "140/140 [==============================] - 4s 28ms/step - loss: 6.0706e-04 - val_loss: 7.4381e-04\n",
            "\n",
            "Epoch 00005: val_loss improved from 0.00081 to 0.00074, saving model to ./tmp_checkpoint.h5\n",
            "Epoch 6/200\n",
            "140/140 [==============================] - 4s 28ms/step - loss: 3.4571e-04 - val_loss: 7.0399e-04\n",
            "\n",
            "Epoch 00006: val_loss improved from 0.00074 to 0.00070, saving model to ./tmp_checkpoint.h5\n",
            "Epoch 7/200\n",
            "140/140 [==============================] - 4s 28ms/step - loss: 2.9579e-04 - val_loss: 6.5862e-04\n",
            "\n",
            "Epoch 00007: val_loss improved from 0.00070 to 0.00066, saving model to ./tmp_checkpoint.h5\n",
            "Epoch 8/200\n",
            "140/140 [==============================] - 4s 28ms/step - loss: 2.6961e-04 - val_loss: 6.2179e-04\n",
            "\n",
            "Epoch 00008: val_loss improved from 0.00066 to 0.00062, saving model to ./tmp_checkpoint.h5\n",
            "Epoch 9/200\n",
            "140/140 [==============================] - 4s 28ms/step - loss: 2.2212e-04 - val_loss: 5.8440e-04\n",
            "\n",
            "Epoch 00009: val_loss improved from 0.00062 to 0.00058, saving model to ./tmp_checkpoint.h5\n",
            "Epoch 10/200\n",
            "140/140 [==============================] - 4s 29ms/step - loss: 2.3074e-04 - val_loss: 5.5098e-04\n",
            "\n",
            "Epoch 00010: val_loss improved from 0.00058 to 0.00055, saving model to ./tmp_checkpoint.h5\n",
            "Epoch 11/200\n",
            "140/140 [==============================] - 4s 28ms/step - loss: 7.3284e-04 - val_loss: 5.1571e-04\n",
            "\n",
            "Epoch 00011: val_loss improved from 0.00055 to 0.00052, saving model to ./tmp_checkpoint.h5\n",
            "Epoch 12/200\n",
            "140/140 [==============================] - 4s 28ms/step - loss: 5.9171e-04 - val_loss: 4.9439e-04\n",
            "\n",
            "Epoch 00012: val_loss improved from 0.00052 to 0.00049, saving model to ./tmp_checkpoint.h5\n",
            "Epoch 13/200\n",
            "140/140 [==============================] - 4s 28ms/step - loss: 2.7625e-04 - val_loss: 4.4724e-04\n",
            "\n",
            "Epoch 00013: val_loss improved from 0.00049 to 0.00045, saving model to ./tmp_checkpoint.h5\n",
            "Epoch 14/200\n",
            "140/140 [==============================] - 4s 28ms/step - loss: 3.3520e-04 - val_loss: 4.2654e-04\n",
            "\n",
            "Epoch 00014: val_loss improved from 0.00045 to 0.00043, saving model to ./tmp_checkpoint.h5\n",
            "Epoch 15/200\n",
            "140/140 [==============================] - 4s 27ms/step - loss: 9.4506e-04 - val_loss: 4.0884e-04\n",
            "\n",
            "Epoch 00015: val_loss improved from 0.00043 to 0.00041, saving model to ./tmp_checkpoint.h5\n",
            "Epoch 16/200\n",
            "140/140 [==============================] - 4s 28ms/step - loss: 6.5243e-04 - val_loss: 3.6999e-04\n",
            "\n",
            "Epoch 00016: val_loss improved from 0.00041 to 0.00037, saving model to ./tmp_checkpoint.h5\n",
            "Epoch 17/200\n",
            "140/140 [==============================] - 4s 28ms/step - loss: 2.5097e-04 - val_loss: 3.7150e-04\n",
            "\n",
            "Epoch 00017: val_loss did not improve from 0.00037\n",
            "Epoch 18/200\n",
            "140/140 [==============================] - 4s 28ms/step - loss: 4.1350e-04 - val_loss: 3.7407e-04\n",
            "\n",
            "Epoch 00018: val_loss did not improve from 0.00037\n",
            "Epoch 19/200\n",
            "140/140 [==============================] - 4s 27ms/step - loss: 1.1906e-04 - val_loss: 3.8577e-04\n",
            "\n",
            "Epoch 00019: val_loss did not improve from 0.00037\n",
            "Epoch 20/200\n",
            "140/140 [==============================] - 4s 27ms/step - loss: 2.3770e-04 - val_loss: 3.4796e-04\n",
            "\n",
            "Epoch 00020: val_loss improved from 0.00037 to 0.00035, saving model to ./tmp_checkpoint.h5\n",
            "Epoch 21/200\n",
            "140/140 [==============================] - 4s 28ms/step - loss: 2.0645e-04 - val_loss: 2.9332e-04\n",
            "\n",
            "Epoch 00021: val_loss improved from 0.00035 to 0.00029, saving model to ./tmp_checkpoint.h5\n",
            "Epoch 22/200\n",
            "140/140 [==============================] - 4s 27ms/step - loss: 1.9251e-04 - val_loss: 2.8097e-04\n",
            "\n",
            "Epoch 00022: val_loss improved from 0.00029 to 0.00028, saving model to ./tmp_checkpoint.h5\n",
            "Epoch 23/200\n",
            "140/140 [==============================] - 4s 27ms/step - loss: 2.0089e-04 - val_loss: 2.9393e-04\n",
            "\n",
            "Epoch 00023: val_loss did not improve from 0.00028\n",
            "Epoch 24/200\n",
            "140/140 [==============================] - 4s 28ms/step - loss: 8.8127e-04 - val_loss: 3.2284e-04\n",
            "\n",
            "Epoch 00024: val_loss did not improve from 0.00028\n",
            "Epoch 25/200\n",
            "140/140 [==============================] - 4s 28ms/step - loss: 2.5951e-04 - val_loss: 2.5039e-04\n",
            "\n",
            "Epoch 00025: val_loss improved from 0.00028 to 0.00025, saving model to ./tmp_checkpoint.h5\n",
            "Epoch 26/200\n",
            "140/140 [==============================] - 4s 28ms/step - loss: 2.7985e-04 - val_loss: 2.4338e-04\n",
            "\n",
            "Epoch 00026: val_loss improved from 0.00025 to 0.00024, saving model to ./tmp_checkpoint.h5\n",
            "Epoch 27/200\n",
            "140/140 [==============================] - 4s 29ms/step - loss: 2.9623e-04 - val_loss: 2.8042e-04\n",
            "\n",
            "Epoch 00027: val_loss did not improve from 0.00024\n",
            "Epoch 28/200\n",
            "140/140 [==============================] - 4s 28ms/step - loss: 1.8380e-04 - val_loss: 2.1742e-04\n",
            "\n",
            "Epoch 00028: val_loss improved from 0.00024 to 0.00022, saving model to ./tmp_checkpoint.h5\n",
            "Epoch 29/200\n",
            "140/140 [==============================] - 4s 28ms/step - loss: 2.7141e-04 - val_loss: 2.0897e-04\n",
            "\n",
            "Epoch 00029: val_loss improved from 0.00022 to 0.00021, saving model to ./tmp_checkpoint.h5\n",
            "Epoch 30/200\n",
            "140/140 [==============================] - 4s 28ms/step - loss: 2.2086e-04 - val_loss: 1.9268e-04\n",
            "\n",
            "Epoch 00030: val_loss improved from 0.00021 to 0.00019, saving model to ./tmp_checkpoint.h5\n",
            "Epoch 31/200\n",
            "140/140 [==============================] - 4s 27ms/step - loss: 8.6695e-04 - val_loss: 1.8177e-04\n",
            "\n",
            "Epoch 00031: val_loss improved from 0.00019 to 0.00018, saving model to ./tmp_checkpoint.h5\n",
            "Epoch 32/200\n",
            "140/140 [==============================] - 4s 28ms/step - loss: 2.2043e-04 - val_loss: 1.8697e-04\n",
            "\n",
            "Epoch 00032: val_loss did not improve from 0.00018\n",
            "Epoch 33/200\n",
            "140/140 [==============================] - 4s 28ms/step - loss: 9.9277e-05 - val_loss: 2.0086e-04\n",
            "\n",
            "Epoch 00033: val_loss did not improve from 0.00018\n",
            "Epoch 34/200\n",
            "140/140 [==============================] - 4s 29ms/step - loss: 1.2365e-04 - val_loss: 1.7923e-04\n",
            "\n",
            "Epoch 00034: val_loss improved from 0.00018 to 0.00018, saving model to ./tmp_checkpoint.h5\n",
            "Epoch 35/200\n",
            "140/140 [==============================] - 4s 28ms/step - loss: 4.6762e-04 - val_loss: 1.6582e-04\n",
            "\n",
            "Epoch 00035: val_loss improved from 0.00018 to 0.00017, saving model to ./tmp_checkpoint.h5\n",
            "Epoch 36/200\n",
            "140/140 [==============================] - 4s 29ms/step - loss: 6.5181e-04 - val_loss: 1.6021e-04\n",
            "\n",
            "Epoch 00036: val_loss improved from 0.00017 to 0.00016, saving model to ./tmp_checkpoint.h5\n",
            "Epoch 37/200\n",
            "140/140 [==============================] - 4s 28ms/step - loss: 2.2456e-04 - val_loss: 1.3983e-04\n",
            "\n",
            "Epoch 00037: val_loss improved from 0.00016 to 0.00014, saving model to ./tmp_checkpoint.h5\n",
            "Epoch 38/200\n",
            "140/140 [==============================] - 4s 29ms/step - loss: 1.9962e-04 - val_loss: 1.2906e-04\n",
            "\n",
            "Epoch 00038: val_loss improved from 0.00014 to 0.00013, saving model to ./tmp_checkpoint.h5\n",
            "Epoch 39/200\n",
            "140/140 [==============================] - 4s 29ms/step - loss: 5.8619e-04 - val_loss: 1.2862e-04\n",
            "\n",
            "Epoch 00039: val_loss improved from 0.00013 to 0.00013, saving model to ./tmp_checkpoint.h5\n",
            "Epoch 40/200\n",
            "140/140 [==============================] - 4s 28ms/step - loss: 3.6193e-04 - val_loss: 1.2102e-04\n",
            "\n",
            "Epoch 00040: val_loss improved from 0.00013 to 0.00012, saving model to ./tmp_checkpoint.h5\n",
            "Epoch 41/200\n",
            "140/140 [==============================] - 4s 29ms/step - loss: 2.4619e-04 - val_loss: 1.1022e-04\n",
            "\n",
            "Epoch 00041: val_loss improved from 0.00012 to 0.00011, saving model to ./tmp_checkpoint.h5\n",
            "Epoch 42/200\n",
            "140/140 [==============================] - 4s 29ms/step - loss: 6.7448e-04 - val_loss: 1.1539e-04\n",
            "\n",
            "Epoch 00042: val_loss did not improve from 0.00011\n",
            "Epoch 43/200\n",
            "140/140 [==============================] - 4s 29ms/step - loss: 4.5433e-04 - val_loss: 1.5991e-04\n",
            "\n",
            "Epoch 00043: val_loss did not improve from 0.00011\n",
            "Epoch 44/200\n",
            "140/140 [==============================] - 4s 29ms/step - loss: 7.1594e-04 - val_loss: 1.0240e-04\n",
            "\n",
            "Epoch 00044: val_loss improved from 0.00011 to 0.00010, saving model to ./tmp_checkpoint.h5\n",
            "Epoch 45/200\n",
            "140/140 [==============================] - 4s 29ms/step - loss: 0.0010 - val_loss: 9.8786e-05\n",
            "\n",
            "Epoch 00045: val_loss improved from 0.00010 to 0.00010, saving model to ./tmp_checkpoint.h5\n",
            "Epoch 46/200\n",
            "140/140 [==============================] - 4s 29ms/step - loss: 2.7767e-04 - val_loss: 9.9335e-05\n",
            "\n",
            "Epoch 00046: val_loss did not improve from 0.00010\n",
            "Epoch 47/200\n",
            "140/140 [==============================] - 4s 29ms/step - loss: 1.5719e-04 - val_loss: 8.5377e-05\n",
            "\n",
            "Epoch 00047: val_loss improved from 0.00010 to 0.00009, saving model to ./tmp_checkpoint.h5\n",
            "Epoch 48/200\n",
            "140/140 [==============================] - 4s 28ms/step - loss: 3.6945e-04 - val_loss: 7.7838e-05\n",
            "\n",
            "Epoch 00048: val_loss improved from 0.00009 to 0.00008, saving model to ./tmp_checkpoint.h5\n",
            "Epoch 49/200\n",
            "140/140 [==============================] - 4s 28ms/step - loss: 1.1910e-04 - val_loss: 7.8070e-05\n",
            "\n",
            "Epoch 00049: val_loss did not improve from 0.00008\n",
            "Epoch 50/200\n",
            "140/140 [==============================] - 4s 29ms/step - loss: 2.3000e-04 - val_loss: 7.3404e-05\n",
            "\n",
            "Epoch 00050: val_loss improved from 0.00008 to 0.00007, saving model to ./tmp_checkpoint.h5\n",
            "Epoch 51/200\n",
            "140/140 [==============================] - 4s 28ms/step - loss: 4.8061e-04 - val_loss: 6.8782e-05\n",
            "\n",
            "Epoch 00051: val_loss improved from 0.00007 to 0.00007, saving model to ./tmp_checkpoint.h5\n",
            "Epoch 52/200\n",
            "140/140 [==============================] - 4s 29ms/step - loss: 9.0959e-05 - val_loss: 7.2452e-05\n",
            "\n",
            "Epoch 00052: val_loss did not improve from 0.00007\n",
            "Epoch 53/200\n",
            "140/140 [==============================] - 4s 28ms/step - loss: 2.2135e-04 - val_loss: 7.9148e-05\n",
            "\n",
            "Epoch 00053: val_loss did not improve from 0.00007\n",
            "Epoch 54/200\n",
            "140/140 [==============================] - 4s 28ms/step - loss: 3.3903e-04 - val_loss: 6.2035e-05\n",
            "\n",
            "Epoch 00054: val_loss improved from 0.00007 to 0.00006, saving model to ./tmp_checkpoint.h5\n",
            "Epoch 55/200\n",
            " 37/140 [======>.......................] - ETA: 2s - loss: 1.6349e-04"
          ],
          "name": "stdout"
        }
      ]
    },
    {
      "cell_type": "code",
      "metadata": {
        "id": "Irz64YNMT9a6"
      },
      "source": [
        "#weight 로딩 return 따로 안함. 모델의 가중치를 로드한다.\n",
        "model.load_weights(filename)"
      ],
      "execution_count": null,
      "outputs": []
    },
    {
      "cell_type": "code",
      "metadata": {
        "id": "xXa3-03PVqgw"
      },
      "source": [
        "#예측하기 - 리턴 없음. 테스트용 로딩예측하기 - 리턴 없음. 테스트용 로딩\n",
        "pred =model.predict(test_feature)"
      ],
      "execution_count": null,
      "outputs": []
    },
    {
      "cell_type": "code",
      "metadata": {
        "id": "C4DVrNFvV1Jw"
      },
      "source": [
        "# 데이터 예측하기. 실제데이터와 비교해본다.\n",
        "# 테스트의 feature을 넣어주고 값을 예측한 pred는 예상치이며, test_label이 실제 값이다.\n",
        "plt.figure(figsize=(12,9))\n",
        "plt.plot(test_label, label='actual' )\n",
        "plt.plot(pred, label='prediction')\n",
        "plt.legend()\n",
        "plt.show()"
      ],
      "execution_count": null,
      "outputs": []
    },
    {
      "cell_type": "code",
      "metadata": {
        "id": "3WN40LImWXpG"
      },
      "source": [
        ""
      ],
      "execution_count": null,
      "outputs": []
    }
  ]
}