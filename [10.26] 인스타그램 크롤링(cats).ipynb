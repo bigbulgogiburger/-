{
 "cells": [
  {
   "cell_type": "markdown",
   "metadata": {},
   "source": [
    "# sns 정보수집 : 인스타그램"
   ]
  },
  {
   "cell_type": "markdown",
   "metadata": {},
   "source": [
    "### 인스타그램에서 검색결과 URL 을 만드는 함수 생성"
   ]
  },
  {
   "cell_type": "code",
   "execution_count": 1,
   "metadata": {},
   "outputs": [],
   "source": [
    "def insta_searching(word):\n",
    "    url='https://www.intagram.com/explore/tags/'+word\n",
    "    return url"
   ]
  },
  {
   "cell_type": "markdown",
   "metadata": {},
   "source": [
    "## 셀레니움으로 인스타 접속하기 "
   ]
  },
  {
   "cell_type": "code",
   "execution_count": 2,
   "metadata": {},
   "outputs": [
    {
     "name": "stderr",
     "output_type": "stream",
     "text": [
      "ERROR: Could not find a version that satisfies the requirement selenium-webdriver (from versions: none)\n",
      "ERROR: No matching distribution found for selenium-webdriver\n"
     ]
    }
   ],
   "source": [
    "!pip3 install selenium-webdriver"
   ]
  },
  {
   "cell_type": "code",
   "execution_count": 3,
   "metadata": {},
   "outputs": [],
   "source": [
    "from selenium import webdriver"
   ]
  },
  {
   "cell_type": "code",
   "execution_count": 10,
   "metadata": {},
   "outputs": [],
   "source": [
    "driver=webdriver.Chrome('e:/big12/tools/chromedriver')"
   ]
  },
  {
   "cell_type": "code",
   "execution_count": 11,
   "metadata": {},
   "outputs": [],
   "source": [
    "import time\n",
    "\n",
    "driver.get('https://www.instagram.com/')\n",
    "time.sleep(2)"
   ]
  },
  {
   "cell_type": "markdown",
   "metadata": {},
   "source": [
    "#### 인스타그램 자동 로그인 설정하기"
   ]
  },
  {
   "cell_type": "code",
   "execution_count": 14,
   "metadata": {},
   "outputs": [],
   "source": [
    "# 계정명 입력 : 이메일 or 계정명 \n",
    "email='vusehgns09@naver.com'  # 여기에 아이디를 입력해주세요\n",
    "input_id=driver.find_element_by_css_selector('#loginForm > div > div:nth-child(1) > div > label > input')\n",
    "input_id.clear()\n",
    "input_id.send_keys(email)\n",
    "\n",
    "# 비밀번호 입력 \n",
    "password='exit@1169611' # 여기에 비밀번호를 입력해 주세요.\n",
    "input_pw=driver.find_element_by_css_selector('#loginForm > div > div:nth-child(2) > div > label > input')\n",
    "input_pw.clear()\n",
    "input_pw.send_keys(password)\n",
    "input_pw.submit()"
   ]
  },
  {
   "cell_type": "code",
   "execution_count": null,
   "metadata": {},
   "outputs": [],
   "source": [
    "# # 보안코드\n",
    "# code=''\n",
    "# input_cd=driver.find_element_by_css_selector('#react-root > section > main > div > article > div > div:nth-child(1) > div > form > div.gi2oZ > div > label > input')\n",
    "# input_cd.clear()\n",
    "# input_cd.send_keys(code)\n",
    "# input_cd.submit()"
   ]
  },
  {
   "cell_type": "code",
   "execution_count": null,
   "metadata": {},
   "outputs": [],
   "source": [
    "# # 정보 나중에 저장\n",
    "# click_btn='#react-root > section > main > div > div > div > div > button'\n",
    "# driver.find_element_by_css_selector(click_btn).click()"
   ]
  },
  {
   "cell_type": "markdown",
   "metadata": {},
   "source": [
    "#### selenium 으로 URL 접속하기"
   ]
  },
  {
   "cell_type": "code",
   "execution_count": 15,
   "metadata": {},
   "outputs": [],
   "source": [
    "word=\"닭강정\" # 검색할 키워드 입력 \n",
    "url=insta_searching(word)\n",
    "driver.get(url)"
   ]
  },
  {
   "cell_type": "markdown",
   "metadata": {},
   "source": [
    "### 검색된 정보 중에서 첫번째 게시글을 찾아 클릭"
   ]
  },
  {
   "cell_type": "code",
   "execution_count": 16,
   "metadata": {},
   "outputs": [],
   "source": [
    "def select_first(driver):\n",
    "    first=driver.find_element_by_css_selector(\"div._9AhH0\") # 페이지별로 태그 설정 \n",
    "    first.click()\n",
    "    time.sleep(3)\n",
    "    \n",
    "    \n",
    "select_first(driver)"
   ]
  },
  {
   "cell_type": "markdown",
   "metadata": {},
   "source": [
    "### 게시글 정보 가져오기 "
   ]
  },
  {
   "cell_type": "code",
   "execution_count": 18,
   "metadata": {},
   "outputs": [
    {
     "name": "stdout",
     "output_type": "stream",
     "text": [
      "Requirement already satisfied: lxml in c:\\users\\dohoo\\anaconda3\\lib\\site-packages (4.6.1)\n"
     ]
    }
   ],
   "source": [
    "!pip3 install lxml"
   ]
  },
  {
   "cell_type": "code",
   "execution_count": null,
   "metadata": {},
   "outputs": [],
   "source": []
  },
  {
   "cell_type": "code",
   "execution_count": 19,
   "metadata": {
    "scrolled": true
   },
   "outputs": [
    {
     "ename": "IndexError",
     "evalue": "list index out of range",
     "output_type": "error",
     "traceback": [
      "\u001b[1;31m---------------------------------------------------------------------------\u001b[0m",
      "\u001b[1;31mIndexError\u001b[0m                                Traceback (most recent call last)",
      "\u001b[1;32m<ipython-input-19-8436d13a340a>\u001b[0m in \u001b[0;36m<module>\u001b[1;34m\u001b[0m\n\u001b[0;32m     36\u001b[0m     \u001b[1;32mreturn\u001b[0m \u001b[0mdata\u001b[0m\u001b[1;33m\u001b[0m\u001b[1;33m\u001b[0m\u001b[0m\n\u001b[0;32m     37\u001b[0m \u001b[1;33m\u001b[0m\u001b[0m\n\u001b[1;32m---> 38\u001b[1;33m \u001b[0mget_content\u001b[0m\u001b[1;33m(\u001b[0m\u001b[0mdriver\u001b[0m\u001b[1;33m)\u001b[0m\u001b[1;33m\u001b[0m\u001b[1;33m\u001b[0m\u001b[0m\n\u001b[0m",
      "\u001b[1;32m<ipython-input-19-8436d13a340a>\u001b[0m in \u001b[0;36mget_content\u001b[1;34m(driver)\u001b[0m\n\u001b[0;32m     17\u001b[0m \u001b[1;33m\u001b[0m\u001b[0m\n\u001b[0;32m     18\u001b[0m     \u001b[1;31m# 작성일자 가져오기\u001b[0m\u001b[1;33m\u001b[0m\u001b[1;33m\u001b[0m\u001b[1;33m\u001b[0m\u001b[0m\n\u001b[1;32m---> 19\u001b[1;33m     \u001b[0mdate\u001b[0m\u001b[1;33m=\u001b[0m\u001b[0msoup\u001b[0m\u001b[1;33m.\u001b[0m\u001b[0mselect\u001b[0m\u001b[1;33m(\u001b[0m\u001b[1;34m'time._1o9PC Nzb55'\u001b[0m\u001b[1;33m)\u001b[0m\u001b[1;33m[\u001b[0m\u001b[1;36m0\u001b[0m\u001b[1;33m]\u001b[0m\u001b[1;33m[\u001b[0m\u001b[1;34m'datetime'\u001b[0m\u001b[1;33m]\u001b[0m\u001b[1;33m[\u001b[0m\u001b[1;33m:\u001b[0m\u001b[1;36m10\u001b[0m\u001b[1;33m]\u001b[0m\u001b[1;33m\u001b[0m\u001b[1;33m\u001b[0m\u001b[0m\n\u001b[0m\u001b[0;32m     20\u001b[0m \u001b[1;33m\u001b[0m\u001b[0m\n\u001b[0;32m     21\u001b[0m     \u001b[1;31m# 좋아요 개수 가져오기\u001b[0m\u001b[1;33m\u001b[0m\u001b[1;33m\u001b[0m\u001b[1;33m\u001b[0m\u001b[0m\n",
      "\u001b[1;31mIndexError\u001b[0m: list index out of range"
     ]
    }
   ],
   "source": [
    "import re\n",
    "from bs4 import BeautifulSoup\n",
    "\n",
    "def get_content(driver):\n",
    "    # 현재 페이지 정보 가져오기\n",
    "    html=driver.page_source\n",
    "    soup=BeautifulSoup(html,'lxml')\n",
    "    \n",
    "    # 본문 내용 가져오기\n",
    "    try:\n",
    "        content=soup.select('div.C4VMK>span')[0].text\n",
    "    except:\n",
    "        content=''\n",
    "        \n",
    "    # 본문 내용에서 해시태그 가져오기 (정규식 활용)\n",
    "    tags=re.findall(r'#[^\\s#,\\\\]+',content)\n",
    "    \n",
    "    # 작성일자 가져오기\n",
    "    date=soup.select('time._1o9PC Nzb55')[0]['datetime'][:10]\n",
    "    \n",
    "    # 좋아요 개수 가져오기\n",
    "    try:\n",
    "        like=soup.select('div.Nm9Fw>button')[0],text[4:-1]\n",
    "    except:\n",
    "        like=0\n",
    "        \n",
    "    # 위치정보 가져오기 \n",
    "    try:\n",
    "        place=soup.select('div.M30cS')[0].text\n",
    "    except:\n",
    "        place=''\n",
    "        \n",
    "    # 지금까지 수집한 정보 저장하기 \n",
    "    data=[content,date,like,place,tags]\n",
    "    \n",
    "    return data\n",
    "\n",
    "get_content(driver)"
   ]
  },
  {
   "cell_type": "code",
   "execution_count": 20,
   "metadata": {},
   "outputs": [
    {
     "data": {
      "text/plain": [
       "['',\n",
       " '.Main character : 백종원(사업가, 요리연구가)Storytelling : @doing_people.<백종원의장사이야기>및인터뷰기사토대재구성함잘못된부분이있으면말씀해주세요\\U0001f97a.#DOwhateveryouwant#무언가를한다는건즐겁고행복한일입니다💛#사람사는이야기 두잉피플...#백종원 #사업 #사업가 #창업 #준비 #도전 #목표 #화이팅 #인생 #삶 #사람 #생각 #존버 #버티기 #카페창업 #빽다방 #감사 #감사합니다 #지금 #하고싶은거하세요 #하고들있네 #두잉피플',\n",
       " ['#DOwhateveryouwant',\n",
       "  '#무언가를한다는건즐겁고행복한일입니다💛',\n",
       "  '#사람사는이야기',\n",
       "  '#백종원',\n",
       "  '#사업',\n",
       "  '#사업가',\n",
       "  '#창업',\n",
       "  '#준비',\n",
       "  '#도전',\n",
       "  '#목표',\n",
       "  '#화이팅',\n",
       "  '#인생',\n",
       "  '#삶',\n",
       "  '#사람',\n",
       "  '#생각',\n",
       "  '#존버',\n",
       "  '#버티기',\n",
       "  '#카페창업',\n",
       "  '#빽다방',\n",
       "  '#감사',\n",
       "  '#감사합니다',\n",
       "  '#지금',\n",
       "  '#하고싶은거하세요',\n",
       "  '#하고들있네',\n",
       "  '#두잉피플'],\n",
       " '2021-03-25',\n",
       " 0]"
      ]
     },
     "execution_count": 20,
     "metadata": {},
     "output_type": "execute_result"
    }
   ],
   "source": [
    "\n",
    "# 게시글 정보 가져오기\n",
    "import re\n",
    "from bs4 import BeautifulSoup\n",
    "\n",
    "def get_content(driver):\n",
    "    # ① 현재 페이지 html 정보 가져오기\n",
    "    html = driver.page_source\n",
    "    soup = BeautifulSoup(html, 'lxml')\n",
    "    # ② 본문 내용 가져오기\n",
    "    try:\n",
    "        content = soup.select('div.C4VMK > span')[0].text\n",
    "    except:\n",
    "        content = ' '\n",
    "    # ③ 본문 내용에서 해시태그 가져오기(정규식 활용)\n",
    "    tags = re.findall(r'#[^\\s#,\\\\]+', content)  \n",
    "    # ④ 작성일자 정보 가져오기\n",
    "    date = soup.select('time._1o9PC.Nzb55')[0]['datetime'][:10]\n",
    "    # ⑤ 좋아요 수 가져오기\n",
    "    try:\n",
    "        like = soup.select('div.Nm9Fw > button')[0].text[4:-1]   \n",
    "    except:\n",
    "        like = 0\n",
    "    # ⑥ 위치정보 가져오기\n",
    "    try: \n",
    "        place = soup.select('div.M30cS')[0].text\n",
    "    except:\n",
    "        place = ''\n",
    "    # ⑦ 수집한 정보 저장하기\n",
    "    data = [place,content,tags,date,like]\n",
    "    return data\n",
    "\n",
    "get_content(driver)"
   ]
  },
  {
   "cell_type": "markdown",
   "metadata": {},
   "source": [
    "### 다음 게시물 열기"
   ]
  },
  {
   "cell_type": "code",
   "execution_count": 21,
   "metadata": {},
   "outputs": [],
   "source": [
    "def move_next(driver):\n",
    "    right=driver.find_element_by_css_selector('a.coreSpriteRightPaginationArrow') # \n",
    "    right.click()\n",
    "    time.sleep(3)\n",
    "    \n",
    "move_next(driver)"
   ]
  },
  {
   "cell_type": "markdown",
   "metadata": {},
   "source": [
    "### 여러개의 게시글 가져오기"
   ]
  },
  {
   "cell_type": "code",
   "execution_count": 22,
   "metadata": {},
   "outputs": [
    {
     "name": "stdout",
     "output_type": "stream",
     "text": [
      "[['', '#기장_고향연화분위기 너무 예쁜 뷰깡패 돈카츠맛집♥시그니쳐 메뉴인 전복리조또부터에비동, 후토마키, 나폴리탄까지 진짜다 맛있고 난리ㅠㅠ 인생맛집을 찾았다-★해외 휴양지 느낌나는 분위기에서 인생샷도겟겟- 맛있는 음식도 냐미냐미-@@✅위치 :  부산 기장군 기장읍 연화길 33-8#기장맛집 #부산맛집 #부산맛집추천 #부산맛집베스트#기장카페 #부산데이트 #부산맛집투어 #기장여행<해당 식품/식당을 리뷰하면서 제작지원비를 제공 받았습니다.>', ['#기장_고향연화분위기', '#기장맛집', '#부산맛집', '#부산맛집추천', '#부산맛집베스트', '#기장카페', '#부산데이트', '#부산맛집투어', '#기장여행<해당'], '2021-03-29', 0], ['경주 황리단길', '수제크림도넛 #빠뜰리에 늦게오면 항상 품절ㅠㅠ', ['#빠뜰리에'], '2021-03-29', 0]]\n"
     ]
    }
   ],
   "source": [
    "word='부산맛집'\n",
    "url=insta_searching(word)\n",
    "\n",
    "driver.get(url)\n",
    "time.sleep(2)\n",
    "\n",
    "\n",
    "select_first(driver)\n",
    "target=2\n",
    "results=[]\n",
    "\n",
    "for i in range(target):\n",
    "    try:\n",
    "        data=get_content(driver)\n",
    "        results.append(data)\n",
    "        move_next(driver)\n",
    "    except:\n",
    "        time.sleep(2)\n",
    "        move_next(driver)\n",
    "        \n",
    "        \n",
    "print(results[:2])"
   ]
  },
  {
   "cell_type": "code",
   "execution_count": null,
   "metadata": {},
   "outputs": [],
   "source": []
  },
  {
   "cell_type": "code",
   "execution_count": null,
   "metadata": {},
   "outputs": [],
   "source": []
  },
  {
   "cell_type": "code",
   "execution_count": null,
   "metadata": {},
   "outputs": [],
   "source": []
  },
  {
   "cell_type": "code",
   "execution_count": null,
   "metadata": {},
   "outputs": [],
   "source": []
  }
 ],
 "metadata": {
  "kernelspec": {
   "display_name": "dev-ml",
   "language": "python",
   "name": "dev-ml"
  },
  "language_info": {
   "codemirror_mode": {
    "name": "ipython",
    "version": 3
   },
   "file_extension": ".py",
   "mimetype": "text/x-python",
   "name": "python",
   "nbconvert_exporter": "python",
   "pygments_lexer": "ipython3",
   "version": "3.6.13"
  }
 },
 "nbformat": 4,
 "nbformat_minor": 4
}
